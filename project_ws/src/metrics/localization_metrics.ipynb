{
 "cells": [
  {
   "cell_type": "markdown",
   "metadata": {},
   "source": [
    "# Imports"
   ]
  },
  {
   "cell_type": "code",
   "execution_count": 1,
   "metadata": {},
   "outputs": [],
   "source": [
    "import yaml\n",
    "import re\n",
    "import numpy as np\n",
    "\n",
    "# Metrics\n",
    "from scipy.spatial.distance import directed_hausdorff\n",
    "from scipy.spatial.distance import euclidean\n",
    "from scipy.spatial.transform import Rotation\n",
    "\n",
    "from fastdtw import fastdtw\n",
    "\n",
    "# Visualization\n",
    "import plotly.graph_objects as go\n",
    "\n",
    "# Ros modules\n",
    "import rosbag2_py\n",
    "import rclpy.serialization\n",
    "from geometry_msgs.msg import PoseStamped, PoseWithCovarianceStamped"
   ]
  },
  {
   "cell_type": "markdown",
   "metadata": {},
   "source": [
    "# Data generation"
   ]
  },
  {
   "cell_type": "markdown",
   "metadata": {},
   "source": [
    "## Build the project"
   ]
  },
  {
   "cell_type": "code",
   "execution_count": 2,
   "metadata": {},
   "outputs": [],
   "source": [
    "# %cd ../..\n",
    "# ! colcon build"
   ]
  },
  {
   "cell_type": "markdown",
   "metadata": {},
   "source": [
    "## Run nodes and save the outputs to .txt files"
   ]
  },
  {
   "cell_type": "code",
   "execution_count": 3,
   "metadata": {},
   "outputs": [],
   "source": [
    "# ! ros2 bag record -o calculated_pose /new_pose\n",
    "# ! ros2 bag record -o original_pose /clean_pose"
   ]
  },
  {
   "cell_type": "markdown",
   "metadata": {},
   "source": [
    "# Extract position sequence"
   ]
  },
  {
   "cell_type": "markdown",
   "metadata": {},
   "source": [
    "## Change working directory for the Notebook to read the recordings"
   ]
  },
  {
   "cell_type": "code",
   "execution_count": 4,
   "metadata": {},
   "outputs": [
    {
     "name": "stdout",
     "output_type": "stream",
     "text": [
      "/home/pablo-pc/GITHUB/TFG/project_ws/src\n",
      "/home/pablo-pc/GITHUB/TFG/project_ws/src/recordings\n"
     ]
    },
    {
     "name": "stderr",
     "output_type": "stream",
     "text": [
      "/home/pablo-pc/.local/lib/python3.10/site-packages/IPython/core/magics/osm.py:417: UserWarning: This is now an optional IPython functionality, setting dhist requires you to install the `pickleshare` library.\n",
      "  self.shell.db['dhist'] = compress_dhist(dhist)[-100:]\n"
     ]
    }
   ],
   "source": [
    "%cd ..\n",
    "%cd recordings/"
   ]
  },
  {
   "cell_type": "markdown",
   "metadata": {},
   "source": [
    "## Save the 3D paths"
   ]
  },
  {
   "cell_type": "markdown",
   "metadata": {},
   "source": [
    "### Saving the original path"
   ]
  },
  {
   "cell_type": "code",
   "execution_count": 5,
   "metadata": {},
   "outputs": [],
   "source": [
    " # Initialize the data that will be published\n",
    "def read_bag(base_path):\n",
    "       storage_options = rosbag2_py.StorageOptions(uri=base_path, storage_id=\"sqlite3\")\n",
    "       converter_options = rosbag2_py.ConverterOptions(input_serialization_format = \"cdr\", output_serialization_format = \"cdr\")\n",
    "       reader = rosbag2_py.SequentialReader()\n",
    "       reader.open(storage_options, converter_options)\n",
    "       return reader\n",
    "        "
   ]
  },
  {
   "cell_type": "code",
   "execution_count": 6,
   "metadata": {},
   "outputs": [
    {
     "name": "stderr",
     "output_type": "stream",
     "text": [
      "[INFO] [1756482296.431751260] [rosbag2_storage]: Opened database 'pose/original/original_pose/original_pose.db3' for READ_ONLY.\n"
     ]
    }
   ],
   "source": [
    "original_path = []\n",
    "\n",
    "bag_original = read_bag(\"pose/original/original_pose/original_pose.db3\")\n",
    "\n",
    "while bag_original.has_next():\n",
    "    \n",
    "    # Read the next message in the queue\n",
    "    topic, msg, t = bag_original.read_next()\n",
    "\n",
    "    # Deserialize the msg to extract the x, y and z values\n",
    "    deserialized_msg = rclpy.serialization.deserialize_message(msg, PoseWithCovarianceStamped)\n",
    "\n",
    "    original_path.append([deserialized_msg.pose.pose.position.x,\n",
    "                          deserialized_msg.pose.pose.position.y,\n",
    "                          deserialized_msg.pose.pose.position.z])\n",
    "    \n",
    "original_path = np.array(original_path)"
   ]
  },
  {
   "cell_type": "markdown",
   "metadata": {},
   "source": [
    "### Saving the path calculated from the clean_pcl input"
   ]
  },
  {
   "cell_type": "code",
   "execution_count": 7,
   "metadata": {},
   "outputs": [
    {
     "name": "stderr",
     "output_type": "stream",
     "text": [
      "[INFO] [1756482296.770453662] [rosbag2_storage]: Opened database 'pose/clean_pcl/clean_pcl_pose/clean_pcl_pose.db3' for READ_ONLY.\n"
     ]
    }
   ],
   "source": [
    "clean_path = []\n",
    "\n",
    "bag_clean = read_bag(\"pose/clean_pcl/clean_pcl_pose/clean_pcl_pose.db3\")\n",
    "\n",
    "while bag_clean.has_next():\n",
    "    \n",
    "    # Read the next message in the queue\n",
    "    topic, msg, t = bag_clean.read_next()\n",
    "\n",
    "    # Deserialize the msg to extract the x, y and z values\n",
    "    deserialized_msg = rclpy.serialization.deserialize_message(msg, PoseStamped)\n",
    "\n",
    "    clean_path.append([deserialized_msg.pose.position.x,\n",
    "                            deserialized_msg.pose.position.y,\n",
    "                            deserialized_msg.pose.position.z])\n",
    "    \n",
    "clean_path = np.array(clean_path)"
   ]
  },
  {
   "cell_type": "markdown",
   "metadata": {},
   "source": [
    "### Saving the path calculated from the noisy_pcl input"
   ]
  },
  {
   "cell_type": "code",
   "execution_count": 8,
   "metadata": {},
   "outputs": [
    {
     "name": "stderr",
     "output_type": "stream",
     "text": [
      "[INFO] [1756482296.912524405] [rosbag2_storage]: Opened database 'pose/noisy_pcl/noisy_pcl_pose/noisy_pcl_pose.db3' for READ_ONLY.\n"
     ]
    }
   ],
   "source": [
    "\n",
    "noisy_path = []\n",
    "\n",
    "bag_noisy = read_bag(\"pose/noisy_pcl/noisy_pcl_pose/noisy_pcl_pose.db3\")\n",
    "\n",
    "while bag_noisy.has_next():\n",
    "    \n",
    "    # Read the next message in the queue\n",
    "    topic, msg, t = bag_noisy.read_next()\n",
    "\n",
    "    # Deserialize the msg to extract the x, y and z values\n",
    "    deserialized_msg = rclpy.serialization.deserialize_message(msg, PoseStamped)\n",
    "\n",
    "    noisy_path.append([deserialized_msg.pose.position.x,\n",
    "                            deserialized_msg.pose.position.y,\n",
    "                            deserialized_msg.pose.position.z])\n",
    "    \n",
    "noisy_path = np.array(noisy_path)"
   ]
  },
  {
   "cell_type": "markdown",
   "metadata": {},
   "source": [
    "# Metricas y visualización"
   ]
  },
  {
   "cell_type": "markdown",
   "metadata": {},
   "source": [
    "## Metricas"
   ]
  },
  {
   "cell_type": "markdown",
   "metadata": {},
   "source": [
    "### Absolut Trayectory Error (ATE)"
   ]
  },
  {
   "cell_type": "code",
   "execution_count": 9,
   "metadata": {},
   "outputs": [],
   "source": [
    "def align_trajectories(traj_ref, traj_est):\n",
    "\n",
    "    # Alings the estimate trayectory to the reference using a Sim(3) transformation\n",
    "\n",
    "    # Centroids calculation\n",
    "    centroid_ref = np.mean(traj_ref, axis=0)\n",
    "    centroid_est = np.mean(traj_est, axis=0)\n",
    "    \n",
    "    # Center data\n",
    "    traj_ref_centered = traj_ref - centroid_ref\n",
    "    traj_est_centered = traj_est - centroid_est\n",
    "\n",
    "    # Covariance matrix\n",
    "    H = traj_est_centered.T @ traj_ref_centered\n",
    "\n",
    "    # SVD decomposition for optimum rotation search\n",
    "    U, _, Vt = np.linalg.svd(H)\n",
    "    \n",
    "    # Rotation matrix\n",
    "    R = Vt.T @ U.T \n",
    "\n",
    "    # Valid rotation matrix check\n",
    "    if np.linalg.det(R) < 0:\n",
    "        Vt[-1, :] *= -1\n",
    "        R = Vt.T @ U.T\n",
    "\n",
    "    # Apply rotation and translation\n",
    "    traj_est_aligned = (traj_est_centered @ R.T) + centroid_ref\n",
    "\n",
    "    return traj_est_aligned\n",
    "\n",
    "def compute_ate(traj_ref, traj_est):\n",
    "    # Compute Absolut Trayectory error between two paths\n",
    "    \n",
    "    # Aling estimated trayectories\n",
    "    traj_est_aligned = align_trajectories(traj_ref, traj_est)\n",
    "\n",
    "    # Compute point to point error\n",
    "    errors = np.linalg.norm(traj_ref - traj_est_aligned, axis=1)\n",
    "\n",
    "    # Compute metrics\n",
    "    ate_mean = np.mean(errors)\n",
    "    ate_std = np.std(errors)\n",
    "\n",
    "    return ate_mean, ate_std, errors"
   ]
  },
  {
   "cell_type": "markdown",
   "metadata": {},
   "source": [
    "## ATE"
   ]
  },
  {
   "cell_type": "markdown",
   "metadata": {},
   "source": [
    "### Original - CleanPCL"
   ]
  },
  {
   "cell_type": "code",
   "execution_count": 10,
   "metadata": {},
   "outputs": [
    {
     "name": "stdout",
     "output_type": "stream",
     "text": [
      "ATE Mean: 0.3217524462271145 meters\n",
      "ATE STD: 0.12168893655068846 meters\n",
      "Max - Min error: 0.6175477542389056 - 0.09460674212877905\n"
     ]
    }
   ],
   "source": [
    "ate_mean, ate_std, errors = compute_ate(original_path, clean_path)\n",
    "\n",
    "print(\"ATE Mean: \" + str(ate_mean)+ \" meters\")\n",
    "print(\"ATE STD: \" + str(ate_std) + \" meters\")\n",
    "print(f\"Max - Min error: {np.max(errors)} - {np.min(errors)}\")"
   ]
  },
  {
   "cell_type": "markdown",
   "metadata": {},
   "source": [
    "### Original - NoisyPCL"
   ]
  },
  {
   "cell_type": "code",
   "execution_count": 11,
   "metadata": {},
   "outputs": [
    {
     "name": "stdout",
     "output_type": "stream",
     "text": [
      "ATE Mean: 0.4029338753805568 meters\n",
      "ATE STD: 0.1552383963344358 meters\n",
      "Max - Min error: 0.7245754492472876 - 0.11017303370769116\n"
     ]
    }
   ],
   "source": [
    "ate_mean, ate_std, errors = compute_ate(original_path, noisy_path)\n",
    "\n",
    "print(\"ATE Mean: \" + str(ate_mean)+ \" meters\")\n",
    "print(\"ATE STD: \" + str(ate_std) + \" meters\")\n",
    "print(f\"Max - Min error: {np.max(errors)} - {np.min(errors)}\")"
   ]
  },
  {
   "cell_type": "markdown",
   "metadata": {},
   "source": [
    "## Hausdorff"
   ]
  },
  {
   "cell_type": "markdown",
   "metadata": {},
   "source": [
    "### Original - CleanPCL"
   ]
  },
  {
   "cell_type": "code",
   "execution_count": 12,
   "metadata": {},
   "outputs": [
    {
     "name": "stdout",
     "output_type": "stream",
     "text": [
      "Hausdorff Distance: 1.1022694627008474\n"
     ]
    }
   ],
   "source": [
    "d1_oc = directed_hausdorff(original_path, clean_path)[0]\n",
    "d2_co = directed_hausdorff(clean_path, original_path)[0]\n",
    "\n",
    "hausdorff_distance = max(d1_oc, d2_co)\n",
    "print(\"Hausdorff Distance:\", hausdorff_distance)"
   ]
  },
  {
   "cell_type": "markdown",
   "metadata": {},
   "source": [
    "### Original - NoisyPCL"
   ]
  },
  {
   "cell_type": "code",
   "execution_count": 13,
   "metadata": {},
   "outputs": [
    {
     "name": "stdout",
     "output_type": "stream",
     "text": [
      "Hausdorff Distance: 1.425873433856323\n"
     ]
    }
   ],
   "source": [
    "d1_on = directed_hausdorff(original_path, noisy_path)[0]\n",
    "d2_no = directed_hausdorff(noisy_path, original_path)[0]\n",
    "\n",
    "hausdorff_distance = max(d1_on, d2_no)\n",
    "print(\"Hausdorff Distance:\", hausdorff_distance)"
   ]
  },
  {
   "cell_type": "markdown",
   "metadata": {},
   "source": [
    "## Frechet-like Distance (DTW)"
   ]
  },
  {
   "cell_type": "markdown",
   "metadata": {},
   "source": [
    "### Original - CleanPCL"
   ]
  },
  {
   "cell_type": "code",
   "execution_count": 14,
   "metadata": {},
   "outputs": [
    {
     "name": "stdout",
     "output_type": "stream",
     "text": [
      "Frechet-like Distance (DTW): 468.9198338195788\n"
     ]
    }
   ],
   "source": [
    "distance_oc, _ = fastdtw(clean_path, original_path, dist=euclidean)\n",
    "print(\"Frechet-like Distance (DTW):\", distance_oc)"
   ]
  },
  {
   "cell_type": "markdown",
   "metadata": {},
   "source": [
    "### Original - NoisyPCL"
   ]
  },
  {
   "cell_type": "code",
   "execution_count": 15,
   "metadata": {},
   "outputs": [
    {
     "name": "stdout",
     "output_type": "stream",
     "text": [
      "Frechet-like Distance (DTW): 597.9042839969255\n"
     ]
    }
   ],
   "source": [
    "distance_on, _ = fastdtw(noisy_path, original_path, dist=euclidean)\n",
    "print(\"Frechet-like Distance (DTW):\", distance_on)"
   ]
  },
  {
   "cell_type": "markdown",
   "metadata": {},
   "source": [
    "## Visualización"
   ]
  },
  {
   "cell_type": "code",
   "execution_count": 16,
   "metadata": {},
   "outputs": [
    {
     "data": {
      "application/vnd.plotly.v1+json": {
       "config": {
        "plotlyServerURL": "https://plot.ly"
       },
       "data": [
        {
         "marker": {
          "color": "green",
          "size": 4
         },
         "mode": "lines+markers",
         "name": "Original",
         "type": "scatter3d",
         "x": {
          "bdata": "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",
          "dtype": "f8"
         },
         "y": {
          "bdata": "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",
          "dtype": "f8"
         },
         "z": {
          "bdata": "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",
          "dtype": "f8"
         }
        },
        {
         "marker": {
          "color": "yellow",
          "size": 4
         },
         "mode": "lines+markers",
         "name": "Clean",
         "type": "scatter3d",
         "x": {
          "bdata": "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",
          "dtype": "f8"
         },
         "y": {
          "bdata": "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",
          "dtype": "f8"
         },
         "z": {
          "bdata": "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",
          "dtype": "f8"
         }
        },
        {
         "marker": {
          "color": "red",
          "size": 4
         },
         "mode": "lines+markers",
         "name": "Noisy",
         "type": "scatter3d",
         "x": {
          "bdata": "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",
          "dtype": "f8"
         },
         "y": {
          "bdata": "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",
          "dtype": "f8"
         },
         "z": {
          "bdata": "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",
          "dtype": "f8"
         }
        }
       ],
       "layout": {
        "margin": {
         "b": 0,
         "l": 0,
         "r": 0,
         "t": 40
        },
        "scene": {
         "xaxis": {
          "title": {
           "text": "X"
          }
         },
         "yaxis": {
          "title": {
           "text": "Y"
          }
         },
         "zaxis": {
          "title": {
           "text": "Z"
          }
         }
        },
        "template": {
         "data": {
          "bar": [
           {
            "error_x": {
             "color": "#2a3f5f"
            },
            "error_y": {
             "color": "#2a3f5f"
            },
            "marker": {
             "line": {
              "color": "#E5ECF6",
              "width": 0.5
             },
             "pattern": {
              "fillmode": "overlay",
              "size": 10,
              "solidity": 0.2
             }
            },
            "type": "bar"
           }
          ],
          "barpolar": [
           {
            "marker": {
             "line": {
              "color": "#E5ECF6",
              "width": 0.5
             },
             "pattern": {
              "fillmode": "overlay",
              "size": 10,
              "solidity": 0.2
             }
            },
            "type": "barpolar"
           }
          ],
          "carpet": [
           {
            "aaxis": {
             "endlinecolor": "#2a3f5f",
             "gridcolor": "white",
             "linecolor": "white",
             "minorgridcolor": "white",
             "startlinecolor": "#2a3f5f"
            },
            "baxis": {
             "endlinecolor": "#2a3f5f",
             "gridcolor": "white",
             "linecolor": "white",
             "minorgridcolor": "white",
             "startlinecolor": "#2a3f5f"
            },
            "type": "carpet"
           }
          ],
          "choropleth": [
           {
            "colorbar": {
             "outlinewidth": 0,
             "ticks": ""
            },
            "type": "choropleth"
           }
          ],
          "contour": [
           {
            "colorbar": {
             "outlinewidth": 0,
             "ticks": ""
            },
            "colorscale": [
             [
              0,
              "#0d0887"
             ],
             [
              0.1111111111111111,
              "#46039f"
             ],
             [
              0.2222222222222222,
              "#7201a8"
             ],
             [
              0.3333333333333333,
              "#9c179e"
             ],
             [
              0.4444444444444444,
              "#bd3786"
             ],
             [
              0.5555555555555556,
              "#d8576b"
             ],
             [
              0.6666666666666666,
              "#ed7953"
             ],
             [
              0.7777777777777778,
              "#fb9f3a"
             ],
             [
              0.8888888888888888,
              "#fdca26"
             ],
             [
              1,
              "#f0f921"
             ]
            ],
            "type": "contour"
           }
          ],
          "contourcarpet": [
           {
            "colorbar": {
             "outlinewidth": 0,
             "ticks": ""
            },
            "type": "contourcarpet"
           }
          ],
          "heatmap": [
           {
            "colorbar": {
             "outlinewidth": 0,
             "ticks": ""
            },
            "colorscale": [
             [
              0,
              "#0d0887"
             ],
             [
              0.1111111111111111,
              "#46039f"
             ],
             [
              0.2222222222222222,
              "#7201a8"
             ],
             [
              0.3333333333333333,
              "#9c179e"
             ],
             [
              0.4444444444444444,
              "#bd3786"
             ],
             [
              0.5555555555555556,
              "#d8576b"
             ],
             [
              0.6666666666666666,
              "#ed7953"
             ],
             [
              0.7777777777777778,
              "#fb9f3a"
             ],
             [
              0.8888888888888888,
              "#fdca26"
             ],
             [
              1,
              "#f0f921"
             ]
            ],
            "type": "heatmap"
           }
          ],
          "histogram": [
           {
            "marker": {
             "pattern": {
              "fillmode": "overlay",
              "size": 10,
              "solidity": 0.2
             }
            },
            "type": "histogram"
           }
          ],
          "histogram2d": [
           {
            "colorbar": {
             "outlinewidth": 0,
             "ticks": ""
            },
            "colorscale": [
             [
              0,
              "#0d0887"
             ],
             [
              0.1111111111111111,
              "#46039f"
             ],
             [
              0.2222222222222222,
              "#7201a8"
             ],
             [
              0.3333333333333333,
              "#9c179e"
             ],
             [
              0.4444444444444444,
              "#bd3786"
             ],
             [
              0.5555555555555556,
              "#d8576b"
             ],
             [
              0.6666666666666666,
              "#ed7953"
             ],
             [
              0.7777777777777778,
              "#fb9f3a"
             ],
             [
              0.8888888888888888,
              "#fdca26"
             ],
             [
              1,
              "#f0f921"
             ]
            ],
            "type": "histogram2d"
           }
          ],
          "histogram2dcontour": [
           {
            "colorbar": {
             "outlinewidth": 0,
             "ticks": ""
            },
            "colorscale": [
             [
              0,
              "#0d0887"
             ],
             [
              0.1111111111111111,
              "#46039f"
             ],
             [
              0.2222222222222222,
              "#7201a8"
             ],
             [
              0.3333333333333333,
              "#9c179e"
             ],
             [
              0.4444444444444444,
              "#bd3786"
             ],
             [
              0.5555555555555556,
              "#d8576b"
             ],
             [
              0.6666666666666666,
              "#ed7953"
             ],
             [
              0.7777777777777778,
              "#fb9f3a"
             ],
             [
              0.8888888888888888,
              "#fdca26"
             ],
             [
              1,
              "#f0f921"
             ]
            ],
            "type": "histogram2dcontour"
           }
          ],
          "mesh3d": [
           {
            "colorbar": {
             "outlinewidth": 0,
             "ticks": ""
            },
            "type": "mesh3d"
           }
          ],
          "parcoords": [
           {
            "line": {
             "colorbar": {
              "outlinewidth": 0,
              "ticks": ""
             }
            },
            "type": "parcoords"
           }
          ],
          "pie": [
           {
            "automargin": true,
            "type": "pie"
           }
          ],
          "scatter": [
           {
            "fillpattern": {
             "fillmode": "overlay",
             "size": 10,
             "solidity": 0.2
            },
            "type": "scatter"
           }
          ],
          "scatter3d": [
           {
            "line": {
             "colorbar": {
              "outlinewidth": 0,
              "ticks": ""
             }
            },
            "marker": {
             "colorbar": {
              "outlinewidth": 0,
              "ticks": ""
             }
            },
            "type": "scatter3d"
           }
          ],
          "scattercarpet": [
           {
            "marker": {
             "colorbar": {
              "outlinewidth": 0,
              "ticks": ""
             }
            },
            "type": "scattercarpet"
           }
          ],
          "scattergeo": [
           {
            "marker": {
             "colorbar": {
              "outlinewidth": 0,
              "ticks": ""
             }
            },
            "type": "scattergeo"
           }
          ],
          "scattergl": [
           {
            "marker": {
             "colorbar": {
              "outlinewidth": 0,
              "ticks": ""
             }
            },
            "type": "scattergl"
           }
          ],
          "scattermap": [
           {
            "marker": {
             "colorbar": {
              "outlinewidth": 0,
              "ticks": ""
             }
            },
            "type": "scattermap"
           }
          ],
          "scattermapbox": [
           {
            "marker": {
             "colorbar": {
              "outlinewidth": 0,
              "ticks": ""
             }
            },
            "type": "scattermapbox"
           }
          ],
          "scatterpolar": [
           {
            "marker": {
             "colorbar": {
              "outlinewidth": 0,
              "ticks": ""
             }
            },
            "type": "scatterpolar"
           }
          ],
          "scatterpolargl": [
           {
            "marker": {
             "colorbar": {
              "outlinewidth": 0,
              "ticks": ""
             }
            },
            "type": "scatterpolargl"
           }
          ],
          "scatterternary": [
           {
            "marker": {
             "colorbar": {
              "outlinewidth": 0,
              "ticks": ""
             }
            },
            "type": "scatterternary"
           }
          ],
          "surface": [
           {
            "colorbar": {
             "outlinewidth": 0,
             "ticks": ""
            },
            "colorscale": [
             [
              0,
              "#0d0887"
             ],
             [
              0.1111111111111111,
              "#46039f"
             ],
             [
              0.2222222222222222,
              "#7201a8"
             ],
             [
              0.3333333333333333,
              "#9c179e"
             ],
             [
              0.4444444444444444,
              "#bd3786"
             ],
             [
              0.5555555555555556,
              "#d8576b"
             ],
             [
              0.6666666666666666,
              "#ed7953"
             ],
             [
              0.7777777777777778,
              "#fb9f3a"
             ],
             [
              0.8888888888888888,
              "#fdca26"
             ],
             [
              1,
              "#f0f921"
             ]
            ],
            "type": "surface"
           }
          ],
          "table": [
           {
            "cells": {
             "fill": {
              "color": "#EBF0F8"
             },
             "line": {
              "color": "white"
             }
            },
            "header": {
             "fill": {
              "color": "#C8D4E3"
             },
             "line": {
              "color": "white"
             }
            },
            "type": "table"
           }
          ]
         },
         "layout": {
          "annotationdefaults": {
           "arrowcolor": "#2a3f5f",
           "arrowhead": 0,
           "arrowwidth": 1
          },
          "autotypenumbers": "strict",
          "coloraxis": {
           "colorbar": {
            "outlinewidth": 0,
            "ticks": ""
           }
          },
          "colorscale": {
           "diverging": [
            [
             0,
             "#8e0152"
            ],
            [
             0.1,
             "#c51b7d"
            ],
            [
             0.2,
             "#de77ae"
            ],
            [
             0.3,
             "#f1b6da"
            ],
            [
             0.4,
             "#fde0ef"
            ],
            [
             0.5,
             "#f7f7f7"
            ],
            [
             0.6,
             "#e6f5d0"
            ],
            [
             0.7,
             "#b8e186"
            ],
            [
             0.8,
             "#7fbc41"
            ],
            [
             0.9,
             "#4d9221"
            ],
            [
             1,
             "#276419"
            ]
           ],
           "sequential": [
            [
             0,
             "#0d0887"
            ],
            [
             0.1111111111111111,
             "#46039f"
            ],
            [
             0.2222222222222222,
             "#7201a8"
            ],
            [
             0.3333333333333333,
             "#9c179e"
            ],
            [
             0.4444444444444444,
             "#bd3786"
            ],
            [
             0.5555555555555556,
             "#d8576b"
            ],
            [
             0.6666666666666666,
             "#ed7953"
            ],
            [
             0.7777777777777778,
             "#fb9f3a"
            ],
            [
             0.8888888888888888,
             "#fdca26"
            ],
            [
             1,
             "#f0f921"
            ]
           ],
           "sequentialminus": [
            [
             0,
             "#0d0887"
            ],
            [
             0.1111111111111111,
             "#46039f"
            ],
            [
             0.2222222222222222,
             "#7201a8"
            ],
            [
             0.3333333333333333,
             "#9c179e"
            ],
            [
             0.4444444444444444,
             "#bd3786"
            ],
            [
             0.5555555555555556,
             "#d8576b"
            ],
            [
             0.6666666666666666,
             "#ed7953"
            ],
            [
             0.7777777777777778,
             "#fb9f3a"
            ],
            [
             0.8888888888888888,
             "#fdca26"
            ],
            [
             1,
             "#f0f921"
            ]
           ]
          },
          "colorway": [
           "#636efa",
           "#EF553B",
           "#00cc96",
           "#ab63fa",
           "#FFA15A",
           "#19d3f3",
           "#FF6692",
           "#B6E880",
           "#FF97FF",
           "#FECB52"
          ],
          "font": {
           "color": "#2a3f5f"
          },
          "geo": {
           "bgcolor": "white",
           "lakecolor": "white",
           "landcolor": "#E5ECF6",
           "showlakes": true,
           "showland": true,
           "subunitcolor": "white"
          },
          "hoverlabel": {
           "align": "left"
          },
          "hovermode": "closest",
          "mapbox": {
           "style": "light"
          },
          "paper_bgcolor": "white",
          "plot_bgcolor": "#E5ECF6",
          "polar": {
           "angularaxis": {
            "gridcolor": "white",
            "linecolor": "white",
            "ticks": ""
           },
           "bgcolor": "#E5ECF6",
           "radialaxis": {
            "gridcolor": "white",
            "linecolor": "white",
            "ticks": ""
           }
          },
          "scene": {
           "xaxis": {
            "backgroundcolor": "#E5ECF6",
            "gridcolor": "white",
            "gridwidth": 2,
            "linecolor": "white",
            "showbackground": true,
            "ticks": "",
            "zerolinecolor": "white"
           },
           "yaxis": {
            "backgroundcolor": "#E5ECF6",
            "gridcolor": "white",
            "gridwidth": 2,
            "linecolor": "white",
            "showbackground": true,
            "ticks": "",
            "zerolinecolor": "white"
           },
           "zaxis": {
            "backgroundcolor": "#E5ECF6",
            "gridcolor": "white",
            "gridwidth": 2,
            "linecolor": "white",
            "showbackground": true,
            "ticks": "",
            "zerolinecolor": "white"
           }
          },
          "shapedefaults": {
           "line": {
            "color": "#2a3f5f"
           }
          },
          "ternary": {
           "aaxis": {
            "gridcolor": "white",
            "linecolor": "white",
            "ticks": ""
           },
           "baxis": {
            "gridcolor": "white",
            "linecolor": "white",
            "ticks": ""
           },
           "bgcolor": "#E5ECF6",
           "caxis": {
            "gridcolor": "white",
            "linecolor": "white",
            "ticks": ""
           }
          },
          "title": {
           "x": 0.05
          },
          "xaxis": {
           "automargin": true,
           "gridcolor": "white",
           "linecolor": "white",
           "ticks": "",
           "title": {
            "standoff": 15
           },
           "zerolinecolor": "white",
           "zerolinewidth": 2
          },
          "yaxis": {
           "automargin": true,
           "gridcolor": "white",
           "linecolor": "white",
           "ticks": "",
           "title": {
            "standoff": 15
           },
           "zerolinecolor": "white",
           "zerolinewidth": 2
          }
         }
        },
        "title": {
         "text": "Interactive 3D Path Visualization"
        }
       }
      }
     },
     "metadata": {},
     "output_type": "display_data"
    }
   ],
   "source": [
    "# Create 3D scatter lines\n",
    "fig = go.Figure()\n",
    "\n",
    "# Adding Original Path to figure\n",
    "fig.add_trace(go.Scatter3d(\n",
    "    x=original_path[:,0], y=original_path[:,1], z=original_path[:,2],\n",
    "    mode='lines+markers', marker=dict(size=4, color='green'),\n",
    "    name=\"Original\"\n",
    "))\n",
    "\n",
    "# Adding Calculated Path to figure\n",
    "fig.add_trace(go.Scatter3d(\n",
    "    x=clean_path[:,0], y=clean_path[:,1], z=clean_path[:,2],\n",
    "    mode='lines+markers', marker=dict(size=4, color='yellow'),\n",
    "    name=\"Clean\"\n",
    "))\n",
    "\n",
    "# Adding Calculated Path to figure\n",
    "fig.add_trace(go.Scatter3d(\n",
    "    x=noisy_path[:,0], y=noisy_path[:,1], z=noisy_path[:,2],\n",
    "    mode='lines+markers', marker=dict(size=4, color='red'),\n",
    "    name=\"Noisy\"\n",
    "))\n",
    "\n",
    "# Labels & Layout\n",
    "fig.update_layout(\n",
    "    title=\"Interactive 3D Path Visualization\",\n",
    "    scene=dict(\n",
    "        xaxis_title=\"X\",\n",
    "        yaxis_title=\"Y\",\n",
    "        zaxis_title=\"Z\"\n",
    "    ),\n",
    "    margin=dict(l=0, r=0, b=0, t=40)\n",
    ")\n",
    "\n",
    "# Show the figure\n",
    "fig.show()"
   ]
  },
  {
   "cell_type": "code",
   "execution_count": null,
   "metadata": {},
   "outputs": [],
   "source": []
  }
 ],
 "metadata": {
  "kernelspec": {
   "display_name": "Python 3",
   "language": "python",
   "name": "python3"
  },
  "language_info": {
   "codemirror_mode": {
    "name": "ipython",
    "version": 3
   },
   "file_extension": ".py",
   "mimetype": "text/x-python",
   "name": "python",
   "nbconvert_exporter": "python",
   "pygments_lexer": "ipython3",
   "version": "3.10.12"
  }
 },
 "nbformat": 4,
 "nbformat_minor": 2
}
