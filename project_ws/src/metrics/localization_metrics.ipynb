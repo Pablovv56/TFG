{
 "cells": [
  {
   "cell_type": "markdown",
   "metadata": {},
   "source": [
    "# Imports"
   ]
  },
  {
   "cell_type": "code",
   "execution_count": 17,
   "metadata": {},
   "outputs": [],
   "source": [
    "import yaml\n",
    "import re\n",
    "import numpy as np\n",
    "\n",
    "# Metrics\n",
    "from scipy.spatial.distance import directed_hausdorff\n",
    "from scipy.spatial.distance import euclidean\n",
    "from scipy.spatial.transform import Rotation\n",
    "\n",
    "from fastdtw import fastdtw\n",
    "\n",
    "# Visualization\n",
    "import plotly.graph_objects as go\n",
    "\n",
    "# Ros modules\n",
    "import rosbag2_py\n",
    "import rclpy.serialization\n",
    "from geometry_msgs.msg import PoseStamped, PoseWithCovarianceStamped"
   ]
  },
  {
   "cell_type": "markdown",
   "metadata": {},
   "source": [
    "# Data generation"
   ]
  },
  {
   "cell_type": "markdown",
   "metadata": {},
   "source": [
    "## Build the project"
   ]
  },
  {
   "cell_type": "code",
   "execution_count": 18,
   "metadata": {},
   "outputs": [],
   "source": [
    "# %cd ../..\n",
    "# ! colcon build"
   ]
  },
  {
   "cell_type": "markdown",
   "metadata": {},
   "source": [
    "## Run nodes and save the outputs to .txt files"
   ]
  },
  {
   "cell_type": "code",
   "execution_count": 19,
   "metadata": {},
   "outputs": [],
   "source": [
    "# ! ros2 bag record -o calculated_pose /new_pose\n",
    "# ! ros2 bag record -o original_pose /clean_pose"
   ]
  },
  {
   "cell_type": "markdown",
   "metadata": {},
   "source": [
    "# Extract position sequence"
   ]
  },
  {
   "cell_type": "markdown",
   "metadata": {},
   "source": [
    "## Change working directory for the Notebook to read the recordings"
   ]
  },
  {
   "cell_type": "code",
   "execution_count": 20,
   "metadata": {},
   "outputs": [
    {
     "name": "stdout",
     "output_type": "stream",
     "text": [
      "/home/pablo-pc/GITHUB/TFG/project_ws/src\n",
      "/home/pablo-pc/GITHUB/TFG/project_ws/src/recordings\n"
     ]
    },
    {
     "name": "stderr",
     "output_type": "stream",
     "text": [
      "/home/pablo-pc/.local/lib/python3.10/site-packages/IPython/core/magics/osm.py:417: UserWarning:\n",
      "\n",
      "This is now an optional IPython functionality, setting dhist requires you to install the `pickleshare` library.\n",
      "\n"
     ]
    }
   ],
   "source": [
    "%cd ..\n",
    "%cd recordings/"
   ]
  },
  {
   "cell_type": "markdown",
   "metadata": {},
   "source": [
    "## Save the 3D paths"
   ]
  },
  {
   "cell_type": "markdown",
   "metadata": {},
   "source": [
    "### Saving the original path"
   ]
  },
  {
   "cell_type": "code",
   "execution_count": 21,
   "metadata": {},
   "outputs": [],
   "source": [
    " # Initialize the data that will be published\n",
    "def read_bag(base_path):\n",
    "       storage_options = rosbag2_py.StorageOptions(uri=base_path, storage_id=\"sqlite3\")\n",
    "       converter_options = rosbag2_py.ConverterOptions(input_serialization_format = \"cdr\", output_serialization_format = \"cdr\")\n",
    "       reader = rosbag2_py.SequentialReader()\n",
    "       reader.open(storage_options, converter_options)\n",
    "       return reader\n",
    "        "
   ]
  },
  {
   "cell_type": "code",
   "execution_count": 22,
   "metadata": {},
   "outputs": [
    {
     "name": "stderr",
     "output_type": "stream",
     "text": [
      "[INFO] [1756936792.806075671] [rosbag2_storage]: Opened database 'pose/original/original_pose/original_pose.db3' for READ_ONLY.\n"
     ]
    }
   ],
   "source": [
    "original_path = []\n",
    "\n",
    "bag_original = read_bag(\"pose/original/original_pose/original_pose.db3\")\n",
    "\n",
    "while bag_original.has_next():\n",
    "    \n",
    "    # Read the next message in the queue\n",
    "    topic, msg, t = bag_original.read_next()\n",
    "\n",
    "    # Deserialize the msg to extract the x, y and z values\n",
    "    deserialized_msg = rclpy.serialization.deserialize_message(msg, PoseWithCovarianceStamped)\n",
    "\n",
    "    original_path.append([deserialized_msg.pose.pose.position.x,\n",
    "                          deserialized_msg.pose.pose.position.y,\n",
    "                          deserialized_msg.pose.pose.position.z])\n",
    "    \n",
    "original_path = np.array(original_path)"
   ]
  },
  {
   "cell_type": "markdown",
   "metadata": {},
   "source": [
    "### Saving the path calculated from the clean_pcl input"
   ]
  },
  {
   "cell_type": "code",
   "execution_count": 23,
   "metadata": {},
   "outputs": [
    {
     "name": "stderr",
     "output_type": "stream",
     "text": [
      "[INFO] [1756936792.884447929] [rosbag2_storage]: Opened database 'pose/clean_pcl/clean_pcl_pose/clean_pcl_pose.db3' for READ_ONLY.\n"
     ]
    }
   ],
   "source": [
    "clean_path = []\n",
    "\n",
    "bag_clean = read_bag(\"pose/clean_pcl/clean_pcl_pose/clean_pcl_pose.db3\")\n",
    "\n",
    "while bag_clean.has_next():\n",
    "    \n",
    "    # Read the next message in the queue\n",
    "    topic, msg, t = bag_clean.read_next()\n",
    "\n",
    "    # Deserialize the msg to extract the x, y and z values\n",
    "    deserialized_msg = rclpy.serialization.deserialize_message(msg, PoseStamped)\n",
    "\n",
    "    clean_path.append([deserialized_msg.pose.position.x,\n",
    "                            deserialized_msg.pose.position.y,\n",
    "                            deserialized_msg.pose.position.z])\n",
    "    \n",
    "clean_path = np.array(clean_path)"
   ]
  },
  {
   "cell_type": "markdown",
   "metadata": {},
   "source": [
    "### Saving the path calculated from the noisy_pcl input"
   ]
  },
  {
   "cell_type": "code",
   "execution_count": 24,
   "metadata": {},
   "outputs": [
    {
     "name": "stderr",
     "output_type": "stream",
     "text": [
      "[INFO] [1756936792.919332122] [rosbag2_storage]: Opened database 'pose/noisy_pcl/noisy_pcl_pose/noisy_pcl_pose.db3' for READ_ONLY.\n"
     ]
    }
   ],
   "source": [
    "\n",
    "noisy_path = []\n",
    "\n",
    "bag_noisy = read_bag(\"pose/noisy_pcl/noisy_pcl_pose/noisy_pcl_pose.db3\")\n",
    "\n",
    "while bag_noisy.has_next():\n",
    "    \n",
    "    # Read the next message in the queue\n",
    "    topic, msg, t = bag_noisy.read_next()\n",
    "\n",
    "    # Deserialize the msg to extract the x, y and z values\n",
    "    deserialized_msg = rclpy.serialization.deserialize_message(msg, PoseStamped)\n",
    "\n",
    "    noisy_path.append([deserialized_msg.pose.position.x,\n",
    "                            deserialized_msg.pose.position.y,\n",
    "                            deserialized_msg.pose.position.z])\n",
    "    \n",
    "noisy_path = np.array(noisy_path)"
   ]
  },
  {
   "cell_type": "markdown",
   "metadata": {},
   "source": [
    "# Metricas y visualización"
   ]
  },
  {
   "cell_type": "markdown",
   "metadata": {},
   "source": [
    "## Metricas"
   ]
  },
  {
   "cell_type": "markdown",
   "metadata": {},
   "source": [
    "### Absolut Trayectory Error (ATE)"
   ]
  },
  {
   "cell_type": "code",
   "execution_count": 25,
   "metadata": {},
   "outputs": [],
   "source": [
    "def align_trajectories(traj_ref, traj_est):\n",
    "\n",
    "    # Alings the estimate trayectory to the reference using a Sim(3) transformation\n",
    "\n",
    "    # Centroids calculation\n",
    "    centroid_ref = np.mean(traj_ref, axis=0)\n",
    "    centroid_est = np.mean(traj_est, axis=0)\n",
    "    \n",
    "    # Center data\n",
    "    traj_ref_centered = traj_ref - centroid_ref\n",
    "    traj_est_centered = traj_est - centroid_est\n",
    "\n",
    "    # Covariance matrix\n",
    "    H = traj_est_centered.T @ traj_ref_centered\n",
    "\n",
    "    # SVD decomposition for optimum rotation search\n",
    "    U, _, Vt = np.linalg.svd(H)\n",
    "    \n",
    "    # Rotation matrix\n",
    "    R = Vt.T @ U.T \n",
    "\n",
    "    # Valid rotation matrix check\n",
    "    if np.linalg.det(R) < 0:\n",
    "        Vt[-1, :] *= -1\n",
    "        R = Vt.T @ U.T\n",
    "\n",
    "    # Apply rotation and translation\n",
    "    traj_est_aligned = (traj_est_centered @ R.T) + centroid_ref\n",
    "\n",
    "    return traj_est_aligned\n",
    "\n",
    "def compute_ate(traj_ref, traj_est):\n",
    "    # Compute Absolut Trayectory error between two paths\n",
    "    \n",
    "    # Aling estimated trayectories\n",
    "    traj_est_aligned = align_trajectories(traj_ref, traj_est)\n",
    "\n",
    "    # Compute point to point error\n",
    "    errors = np.linalg.norm(traj_ref - traj_est_aligned, axis=1)\n",
    "\n",
    "    # Compute metrics\n",
    "    ate_mean = np.mean(errors)\n",
    "    ate_std = np.std(errors)\n",
    "\n",
    "    return ate_mean, ate_std, errors"
   ]
  },
  {
   "cell_type": "markdown",
   "metadata": {},
   "source": [
    "## ATE"
   ]
  },
  {
   "cell_type": "markdown",
   "metadata": {},
   "source": [
    "### Original - CleanPCL"
   ]
  },
  {
   "cell_type": "code",
   "execution_count": 26,
   "metadata": {},
   "outputs": [
    {
     "name": "stdout",
     "output_type": "stream",
     "text": [
      "ATE Mean: 0.3217524462271145 meters\n",
      "ATE STD: 0.12168893655068846 meters\n",
      "Max - Min error: 0.6175477542389056 - 0.09460674212877905\n"
     ]
    }
   ],
   "source": [
    "ate_mean, ate_std, errors = compute_ate(original_path, clean_path)\n",
    "\n",
    "print(\"ATE Mean: \" + str(ate_mean)+ \" meters\")\n",
    "print(\"ATE STD: \" + str(ate_std) + \" meters\")\n",
    "print(f\"Max - Min error: {np.max(errors)} - {np.min(errors)}\")"
   ]
  },
  {
   "cell_type": "markdown",
   "metadata": {},
   "source": [
    "### Original - NoisyPCL"
   ]
  },
  {
   "cell_type": "code",
   "execution_count": 27,
   "metadata": {},
   "outputs": [
    {
     "name": "stdout",
     "output_type": "stream",
     "text": [
      "ATE Mean: 0.327063310851359 meters\n",
      "ATE STD: 0.14548091092795593 meters\n",
      "Max - Min error: 0.6152245606829154 - 0.040570651906988386\n"
     ]
    }
   ],
   "source": [
    "ate_mean, ate_std, errors = compute_ate(original_path, noisy_path)\n",
    "\n",
    "print(\"ATE Mean: \" + str(ate_mean)+ \" meters\")\n",
    "print(\"ATE STD: \" + str(ate_std) + \" meters\")\n",
    "print(f\"Max - Min error: {np.max(errors)} - {np.min(errors)}\")"
   ]
  },
  {
   "cell_type": "markdown",
   "metadata": {},
   "source": [
    "## Hausdorff"
   ]
  },
  {
   "cell_type": "markdown",
   "metadata": {},
   "source": [
    "### Original - CleanPCL"
   ]
  },
  {
   "cell_type": "code",
   "execution_count": 28,
   "metadata": {},
   "outputs": [
    {
     "name": "stdout",
     "output_type": "stream",
     "text": [
      "Hausdorff Distance: 1.1022694627008474\n"
     ]
    }
   ],
   "source": [
    "d1_oc = directed_hausdorff(original_path, clean_path)[0]\n",
    "d2_co = directed_hausdorff(clean_path, original_path)[0]\n",
    "\n",
    "hausdorff_distance = max(d1_oc, d2_co)\n",
    "print(\"Hausdorff Distance:\", hausdorff_distance)"
   ]
  },
  {
   "cell_type": "markdown",
   "metadata": {},
   "source": [
    "### Original - NoisyPCL"
   ]
  },
  {
   "cell_type": "code",
   "execution_count": 29,
   "metadata": {},
   "outputs": [
    {
     "name": "stdout",
     "output_type": "stream",
     "text": [
      "Hausdorff Distance: 1.2890047623696028\n"
     ]
    }
   ],
   "source": [
    "d1_on = directed_hausdorff(original_path, noisy_path)[0]\n",
    "d2_no = directed_hausdorff(noisy_path, original_path)[0]\n",
    "\n",
    "hausdorff_distance = max(d1_on, d2_no)\n",
    "print(\"Hausdorff Distance:\", hausdorff_distance)"
   ]
  },
  {
   "cell_type": "markdown",
   "metadata": {},
   "source": [
    "## Frechet-like Distance (DTW)"
   ]
  },
  {
   "cell_type": "markdown",
   "metadata": {},
   "source": [
    "### Original - CleanPCL"
   ]
  },
  {
   "cell_type": "code",
   "execution_count": 30,
   "metadata": {},
   "outputs": [
    {
     "name": "stdout",
     "output_type": "stream",
     "text": [
      "Frechet-like Distance (DTW): 468.9198338195788\n"
     ]
    }
   ],
   "source": [
    "distance_oc, _ = fastdtw(clean_path, original_path, dist=euclidean)\n",
    "print(\"Frechet-like Distance (DTW):\", distance_oc)"
   ]
  },
  {
   "cell_type": "markdown",
   "metadata": {},
   "source": [
    "### Original - NoisyPCL"
   ]
  },
  {
   "cell_type": "code",
   "execution_count": 31,
   "metadata": {},
   "outputs": [
    {
     "name": "stdout",
     "output_type": "stream",
     "text": [
      "Frechet-like Distance (DTW): 499.1673830413068\n"
     ]
    }
   ],
   "source": [
    "distance_on, _ = fastdtw(noisy_path, original_path, dist=euclidean)\n",
    "print(\"Frechet-like Distance (DTW):\", distance_on)"
   ]
  },
  {
   "cell_type": "markdown",
   "metadata": {},
   "source": [
    "## Visualización"
   ]
  },
  {
   "cell_type": "code",
   "execution_count": 32,
   "metadata": {},
   "outputs": [
    {
     "data": {
      "application/vnd.plotly.v1+json": {
       "config": {
        "plotlyServerURL": "https://plot.ly"
       },
       "data": [
        {
         "marker": {
          "color": "green",
          "size": 4
         },
         "mode": "lines+markers",
         "name": "Original",
         "type": "scatter3d",
         "x": {
          "bdata": "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",
          "dtype": "f8"
         },
         "y": {
          "bdata": "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",
          "dtype": "f8"
         },
         "z": {
          "bdata": "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",
          "dtype": "f8"
         }
        },
        {
         "marker": {
          "color": "yellow",
          "size": 4
         },
         "mode": "lines+markers",
         "name": "Clean",
         "type": "scatter3d",
         "x": {
          "bdata": "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",
          "dtype": "f8"
         },
         "y": {
          "bdata": "/AwcjrZDhj8sHCqwPASJP2ixdQWoMZs/vLgw0JYbmj/v4glqHfigP1Ta1o3HWaE/vwtBFsMGoz/UBJ1KmyijP1hh/p3Ex6I/SP6axafQoj+G0ADU/sOjP/Gi88EV55E/5zF+INhUpD86wmu8eC2bP4idC9TnaaE/dSffbbWcmT+kjD4tzPqcP1yTQJBMFZs/2LWQDjZXnD/gQ1G+1wabP+L5ePeLhpw/nPhGbY3jmj+QMH+LXUydP88m8HxbL54/kBQ+QEeapD/McliAEMirP2yjEOhJ86s/6XvUS2ortT9YMlpoxT25PzKcP8HeIbs/yUelOIRIvD+mvKvM3me7P7tzypt2rr8/MMdfxz1PwT8EDsMNhnPBP4oif/R8l8E/xDNRhVChwT83me7f3hXEP8FnlStTUcY/hp13TfSExj8kRRwnEIjGP8n0tPn0m8Y/uEEpyEG7xj/yHHd/4wrJP3OFIduXI8k/UfFiEswryT895XxHy0jJP0dne3LgJMs/6Ki7mHYmyz9Vh9DmFzrLP+hcPqxbAsk/9E32cLI+yT/2TfZwsj7JP/BN9nCyPsk/8E32cLI+yT8C7jVxsj7JPwTuNXGyPsk/Au41cbI+yT8E7jVxsj7JP/scaMAH1cs/8m/6fKbVzT9QL7tAZUbQP7Mup734IdM/GBMAZUG92T8WnZq408LZP7WRvzmm2Nk/FIv02mfW2T9GUSJMge/ZP3fvb+If8tk/HC+h3szu2T+NmZQFI1PbP77P2Zhe0Ns/NtKUM+753D/b+XOxSaTeP386GHBjjt4/PigSLjBW3j/gCfqZcPLeP0xl5nsgz94/3HSJ5XKb3j8O4E1dfwTfP9YdBpU+E98/hE6vJ3wY3z//Z7QdvxvfP+YcmgAiCd8/DExep4Y23z+j5jJrfEnfP0Wbd3VTQN8/JtCXT3Qs3z+OPQYjp77ePwlODkbYhN4/91a+l25I3z9IIZ0k3knfP2w5V2H5Kt8/yM02I+e13j/VGpeiyvjeP5fgph/7Mt4/dV5pal/s3j9TbALdDbTeP6vzd3QcRd4/Cpdbd0bz3j8Lp01fE+zePwiVTEl0rt4/m5xAkhH13j8G+NKI6bvePyKCj22C+d4/uIN/VLP93j+SvHVaygzfP7TsHobVDN8/mDXaygwS3z/1KNWvbAzfP9PK6pxxtd4/6HDxaGf+3T/WiNQ4F4LdPyjV1tW+Ft4/uxDns3Im3z8GyYxjsLjeP9g3p5c9Bd4/pAYfcs8p3T84yqUxcHvgP+mmHcBmEOE/rbMbg6IO4T9mUoh2PsngP1YzqDXaE+I/+ohbTYYa4z+GV7ODVB3jP63xz7jTJ+M/SR9j81bd4z+J8H6h5sPkP5kjQ8onwOQ/IN178j275D/n23oX2srkP032jgbLseQ/8amaq1ph5D+6Jlstm8XkPzwOg20zx+Q/h0gGUdTI5D8rpcNQNcjkPzx0/2fE3OQ/yfSVsGG/5T9GSUHPGYbnP2BYCqq3fug/YkPHDD926T/E2xkvVG/qP+b3y+IvCus/CcYTOSkL7D+XNz8+RAHtP3H+nXTx7e0/yOMGDZ0L7z9hk3v6yQvwPzI3awYQePA/2kHztHIJ8j/Pj11De5TxP8DxtpzDc/E/uTLVcAe28z+ud1CYY1fzP/tR4R4DzvQ/rl2foBJc9T+okRIuAd31PzrXfgqcyfU/pnDr20/k9j9N2RFw8bX2P1EzRXV7hPY/68lgWOrf9j8AeMeM/Z73PycZe05+7vY/78vFzPi99j8CxN8Ab6T2P3MisJfEyfY/zfmf4YJD9z9jGToiuGv3P2BKU5jM6vc/wbvFXgdz+D86Hde+NwL5P+csj8BTc/k/bGyF4n/k+T+yeStP+Vn6P8++VyR82fo/j478XFmo+j8urFoDeZD6P3xQPlzRyvo/Ftfi7CBB+z+wRnfTsRf7P/iBDUmBS/s/kWsjwYS5+z8VD5nCW/X7P+k8CsrOsfw/OtID+Pr8/D8XjL+NgYf9P7vWmQdjJ/4/imZlTpEJ/z/A6+sy0GD9PwbVKQrAgP0/zrkLE1dR/T+njYv0eG79PyCQBjJdbP0/CDJTDSNY/T+IGxyQMXn9P++RuoREWv0/gZeMFR+H/T8m92apxqT9P3pe2t9zhv0/gpn8RwgV/T9Kevbccln9PwLten+Dhv0/ejSXjbB+/D9AndP9JwD8P/yVfVlMg/s/wXLmmkEJ+z90m+pME0D7P2r6PcK6Zfs/SCIbMW8++z/Q0vsNCp/6P5L8lLuwCvs/ABJBbNSH+j+u+2EcBBz6P8n03744IPo/TD1lUuBI+j+zj6PkcCb6P3DWkQhxM/o/1mJg6DQm+j9lDxKhgsf5P4/wB4Us3fg/GFfAmZAP+j+14aAnKT76PzzGukSbZPo/WwevmeNO+j9h3vNnRML5P4nlfQl+EPo/oz1vjHU/+j9mabfkk276PzSznXGwZ/o/bqTWWUXm+T8hhyabPxT6P3OuPm84RPo/vrePuh4U+j8BxJGMRn/6PzQZzmi+BPs/4VCmnmpn+z9/3hlCrA36PyOZv/KfPPo/9+inunAL+j+2UlKNvzf6P4tUSfO1cPo/xHyQNHiI+j8ba/Jseyn6P9c15ojd+Pk/NUEQy0si+j/dfTfSp1H6Pz1MZhX+Xvo/76fb+R3o+T9byfM0zPv5Pzki3NQkI/o/U4Xdty1R+j9I/iBywl/6P6LWm01m9/k/nsT/7ery+T9HvqVfBhn6P8p21BP5Tfo/W8pkJn5u+j9OWCQfOOT5PzEOqFJf3/k/bxY6a9EA+j+mNEZDOCf6Pw/q2+rWK/o/IHs1SLez+T+vWbrTLmP6P2rz0gk4Rfs/JkV7R5D++T+ZRwbEIQn6P3p9kHf7LPo/+iAzqg0I+j8pjXSuAi76P96Zc02Yafo/oVTjmrKk+j9JQHP84JD6P/O17MdS/Pk/EQmOGFcl+j+jNGvwRWr6P6/mdBeUvPo/lAYIJKL6+T92wcRFNf35P24Xpq+YKfo/uODgJIF6+j9BNOEbG+36P3kNTnYSV/s/AxK+a3v1+T/fOi9YZiX6P/SWSYyuPPo/UgAyA7/Z+j+MpPpYPwn7P10hv7kY0vo/ac9S440C+z8TPAQUt2T7P8b07wEwD/w/2OTdhwW5+j8VKEE187L6P2OJG/OFe/o/t0z54/C9+T8wIeBRE6D6P7KirFHmmvo/t0wrKm/R+j/kVWwZmEb7P4X5KBZJHvw/XKj9D4WS+j9tfZsFH4/6Pzn13uMoxvo/kxGtz5U/+z9osIHDeyr8PzD3ACaSivo/ZDIm6e+N+j9lMNDFy8L6P0lJLewbPPs/R4ACJ1gy/D+H/rWUnID6P/LgjnS7gfo/2x+ns7aY+j+g5zJExiv6P9tabWofMfo/Otirup8z+j8eCtra8iz6P6BNzq9QKvo/LRMNgTgf+j+T8qX6PCX6PxaxspPxJvo/rhPL6H8i+j9GpgY5RSL6P/DQUcVRH/o/721fcmIj+j/qkD5IhRj6P5ryldSBIfo/BH9LVTYW+j81n9MCn1H6P8rCZpXbFfo/FryWonAS+j8eJM4Fdgf6PwTX3JB3Tfo/a3UC4Fv2+j8XORTU1Zb5P4ssAx1brvk/ckg3Yguz+T/uwIk6wqn5PzeJ7gbW4/k/wH4AuzqD+j92ps5qO575P/6sw9fNsPk/aAVqaD69+T+mwVcQ68v5Pw9I7w2G0vk/Dh5ZEeEH+j9r3ebDVvv5PwvpQagfYvs/umUYF+Fb+z94dnMQA1/7P0g2Wt1Gf/s/dJyY5tDb+z8CW7Qwt1T7P3+SpsgnUvs/+6p4UYdP+z81BR+N3077P5XTtb2dR/s//AUrmLdD+z99t43D8JP7P2db+F3Dq/o/wBeNWx/I+j9JSNL8IN/6P5O2/rm1+/o/0Ohv5dfT+j+5Z6kCh+r6PyOxBD1j4/o/7NkONqPk+j8aWIO8PuH6P3OIRQsyXPo/+pps/u3p+j9BEzuKN9r5PwQLB1w88fk/2pROMv/A+T/MXGxal6f5P3Rrv/PWivk/q1UFJPkT+j9vNAuOe4L6Pymz+92Ks/o/71bg5iO2+j+FokjzNEf7PzKKAzXR0fo/Hrzbsbxq+z94biWgZKv7P6DC9AyChfs/CVKlP0k/+z8xdE0xWzf7P6k0P5Aqfvo/t92SQchO+j9+bKfez536P1BPSrHpt/o/YI4XQEmX+j8H1u+LMub6P2874Nsao/o/VnDWVpVy+j9MeOPyE176P4mGBktl+vk/iIYGS2X6+T/Uyd2BZvr5P9XJ3YFm+vk/0BckF7HA+T/89hcCEOH5P/z2FwIQ4fk/Fkv7svvg+T8WS/uy++D5PxU80I0l1/k/3UDSM1cU+j9CNwLC3z/6P0svEWAtcPo/ZhVBvrSB+j+7+Dwu37j6P07S9oELavo/A224RYsX+z9u4OwEJK36P/qODTTAKvs/URh2Mfyc+T/2vxgLEBj6P/rOG70E9Pg/eLgyF9hR+D+jywzJDK/3Py5WOhrfr/c/xurXSZPE9j/JdTJTitf2PyZpWNdJDPY/BPwzSSAy9j+PRrqIO831PwzEPsEGEPQ/2KQPeZ5Q9D8AWVqTMQr0P9yIZzdBt/Q/DSrdefVl9D+Q2sB+OP/zPz+lo36dPPQ/40iOI/iQ8j/cHVt4YbHyP2tcTffS4PE/WnrpgmsA8j/vvTxQ57LxP/C9PFDnsvE/8r08UOey8T/4vTxQ57LxP//lRter1PE/EO6MD3S38T9CE/dWxpPxP89sleJNr/E/TNrD1xOX8T/oIDEh9pzxP1pfdinglvE/aEopNECg8T/gndU9t/3xPwskFiUcMvE/Ctj2XRl58T9Sf/UBHpnxP/mQtfnADvI/QeJmSGoC8j+e7PX8JPnxP34gHTAY9/E/DLowI+hE8j/C869K7kbyP6o+Dy1bp/I/gq/qsofR8T8X6D2pLw/yP7v11pyaZ/I/3wUVg8pj8j+3dlqEFF7yPzMQfXokZ/I/uNcswEuj8j/Kn+JSX53yP4cxW6yEm/I/6A2qkryT8j/EjjnPYpvyP1/LDZRl5/I/3Vx8h9kl8z+qz5ZGKprzP3wlTw+Wy/I/FI2/XMfW8j+DCax7vePyP5rdU/OF0vI/mwu4Fy/b8j9CV7rk5tTyP7zKz4CCY/M/+QGXfv9i8z86r7RMebzzP5of5TCII/Q/QRqtx8wc9D8BmJK4Fhr0P1AlcvRKGPQ/6C7Z0pUV9D9JdqOhXxb0P21j04sRHfQ/I430ofrI9D86BjUaGTj1P5NNRaKbbvY/btQfMkm19T+ehmxObCH2P6cXCX9FdvY/BKGqzELc9j9QDiEEmzr3P9fgWaOXqfc/a3JJPNqe9z+75OpSiaH3P67oz8msoPc/L58XaDmi9z+uv1gZ1aT3P8oeYgVPlfc/XULw3BCT9z9NF47+E5X3Px95dyO8kvc/LdVTOr2Q9z9o/pC6x5H3P7o0MVONkvc/06giWeWR9z+sFooqNo33P5Vnr9oUj/c/mDpAz8GI9z9I6E/e74v3P3D5d9XXjPc/NgSmRvGJ9z/E+Jd8aor3P2CYCXskjfc/PFRP6Gq19z+Z2drqn1b3PyfeqjfcVPc/2wPciudY9z9pJ8d9kFD3P8/oSx95Vvc/953tEfcm9z8RUQACBln3P8CLWgGBVfc/QjDAUHcO9z/mrXoDDqH2P3EqQMl9PfY/QX72cG7g9T8ARCygs6v1P86Hl8mg3PU/YYpMKm7e9T912b8bBd/1P59iOWl4n/U/tFE7fXsb9T8OzXvXk+L1Pz7Ovbmz3vU/x7QOv7id9T+JwRQ8ehL1P85bKBwY4PU/dFdHgD3e9T8EwY4ajd/1P0e1K0rPo/U/KeTUd5oS9j+96ub9iSv1PxzRiN1K0PQ/8/tlD45M9D87s3bYJQP1P5mxpptxUPM/yshDnZCE8z+FlLQFKD7yP9/PpibTHfM/Qppco16h8T8ClTcqm2DwP8zGCbaPou8/SqZGCLZf7j/dj43FisTuP1l7kLETzes/WCuCRCUh7D/CHDwDWvvsPyEt34p7kOg/oldxQIp76T8mzV45+2rlP+dI6TnaKuQ/GUB8QJeK5D9NZ7M9vLnhP4gzodBDMeE/X0L7h6494D98DM7FpqjgPwpv/nvDa+A/Fq1lMhH52D8UUPbnUX7aP+4VV0zboNQ/SepLJ31q0j/b1KXas8PPP+1c1kkNWMs/wrCABm+Zxj8SoVEcwC6+P778eHDDErs/Iich/Jcivz8gkDcmxWKBv4ewyoWqgZu/JGMiucYbjb9QuhSPhly6vwyZiziM7sa/8A4AIQ2fyL94L78rN1TQv5Y6iTMI0tO/tq2R0BLE2L8kCXlwGmTav4mPbRGuoNy/dWUEEJWd3r9ZAY6rjeDfv3uTB6lzwt6/vAgpftcX47+e1Qjzz5Div/FfjR0yh+K/CMOSuTHl5b+rR6z3awfnv+jFPuQEvui/3oVsemLM6b8bMsTWvj3qv3w1arfzEe2/ZFBUv0OT7L8v6w/m+KzuvxnlE/Ogyu+/HPCJDVVh8L91ao1MCsLwv6jGNFP8N/G/7CH1uBRf8b9jDq7WbbPyvwUIaOOqTPO/kyN5x7Wy87/8KUsaR1v0v6RYIPGc4fS/NGWAitCb9L8+w+FzA/71v3lEpxkVO/a/JUdmOlrb9b+1wsvTtuz3vyAx6+eNOfi/TLzYUsXB+L93Ra6gK1v5vwuJD29kt/m/kITTRCw1+r+GtmE+QJ36v4OZU1tCuvq/szUHIBDk+79eHrZd7Tv8v6u+Pdfvt/y/3nxu8cRU/b9qEK8sQcj9v5Xte4UQO/6/WWErjSqp/r/vNoCVIAr/vxH79khVNf+/vouObHU0AMCA7pcucGIAwPL8KnIi2gDALTWypLcjAcDKemuY4mIBwLjyfPMCkwHAWzpn+ZfQAcAvpd5UgcsBwDw7xke1ZgLAHMrYSRiYAsAl+SWZ6ssCwLF6MvrRRwPAT3f59aVHA8Dk4bAURjoEwGrFLLRovATAj0/+toD/BMDFrJ7akjYFwFxVUOutbQXAtRNiey9qBcBfiqmmSYMFwINNYgR4vAXADYHppHkgBsAum5twr6gGwAAg4zpbXgXApgPIIol6BcC/ZF/ZGL0FwLiuAkMyNwbAiaUupcReBcA5TXtM2FwFwObr2l+uXAXA6QEMLDZaBcA8sxRcYVgFwNUsqrlkWQXAYnGSC1RaBcDhpEg+NVgFwApEDsSdcQXATaFuWOyvBcAbD95xVicGwPpHfZ7SGAXACM40/FJvBcCkJGHRuXIFwJiDTgFfbQXA4eliKlpxBcBB/8phRGwFwAy39a7UbQXA2QTzQixtBcCaYYL9jmcFwMbq1ECvaQXAZnKEcsBnBcDaFfVEh30FwKQFmEDjZQXAjS45UVNkBcC8ksQwVWQFwNt6UewtYwXACRwWKbl3BcBG0LipVmAFwH8krSpyIwXAchoVp1aCBcAec+8iipUFwPjz39xgzAXAi83zTyN4BcDI9DXkrHIFwMGxzdKPcwXAjQZ7X7Z4BcCcxUSZ9m8FwPH+4ccrcwXAHcxAs21yBcDki0MVdW8FwKwfibPBgQXAbCoytl20BcC5lhQH8B0GwOM8k8wPbAXAoPFjgTt+BcDzZGXBLrIFwDA2UfdPHgbAcSrCh8YzBcCgNPpB8XUFwCFHFq4wiQXAZLunDX28BcBkTnnXpHcFwKeQBxHGeAXADSn4n2SMBcAs/BHhvagFwEl658aIvwXAFKWPdF/VBcDOlvbrHvIFwAEBNHHADwbAKZJdzr4dBsDIrhPenAwGwIWGrA/WCQbAzUrmVLsJBsDC8hB6zB4GwDOC14+ZBQbANRX0I8IBBsA5dSo2LxQGwLUaOY5YIQbA+U5EV6L/BcAbxgaGyLYFwCCI3AarXAbAOS70XAFMBsDX/l6WekMGwKz1je4XVwbAYWAv3shJBsDgcmOZH1QGwNsc4rexSQbAju3TPElMBsDZpsyupVUGwI/H5PCMYQbACrI44zCABsCkqvD1eXQGwEufvbIBbgbAc6cBa9hxBsD5yfc+r2oGwLn0l8wjZAbAn6xEBtNmBsALIE4/12wGwJH7C/1JbgbAYQjQ0NN0BsBtFMM9x5AGwCJ48QdM3wbAE0K2qQ5rBsAWz9xkB2gGwH9WBgIZbgbACsbfF5SHBsCL3YcyZs4GwCh7K4igYAbAYzVM+r88BsBUG18Q4gEGwCGEmnELnAXAorKFcHJvBsDHKvZgJ3AGwDgGWjLPYQbAZbXR78NiBsB77gAhNnMGwICweH68ogbA8e5HFfRkBsCguyCyqGAGwMP5vv4NXgbAcWzyerlkBsC/5GroU3wGwIfQsWBiXAbANZQKg09PBsDYNPDM70wGwGetJ4mXSQbARytPu9dLBsAvJkYIe1UGwPDHon5PRAbAmFqrt+ZBBsCNqXloREEGwJ20Y9oaNQbAWnvd/RE7BsBpj/JheicGwFR8R3hfEgbAwpMlVfvzBcCRc3N/tv8FwETNc86bAwbApjuvM/cRBsAxXnLgn0oGwE2gwmmW4wXAywTitpeuBcBiBqd0GGQFwGwdJu9d5wXAy6L9FWHaBcC2l7sPgMYFwKhnIhMO5AXAilMJKBViBsChXmflZGoFwKuMg8cdigXARS4Us8cbBcBpWbqp0icFwJzXiacNBgXAqd2UeQseBcDa3ShpMZ8FwMTQ2Ani1gTAhymnyfP+BMBq0YWLdZEFwMfGOQnnaQTA0DFz9+mVBMAVT9a+WkcEwFcCUNX2WwTAv94iWjRsBMC+3iJaNGwEwLzeIlo0bATAwd4iWjRsBMDC3iJaNGwEwNMekt06iATA8wPHzqOcBMDxf2JS8bkEwNBjD9k33QTAU4tc3qT9BMD4YhlIjBUFwOQ4g19VMgXA6KwGOKnxBMByScwnfncFwF4gd9S8PAXAkVB3YISgBMCdOEvHSTQGwL5U9oDorwbAe7igsAHjBcAisMmP4P4FwO3rKDq9FgbA6qnUM3UuBsCc+FD1XxcGwLKpic59ZQbAWezLn3JXBsDsjTqFuwwGwEk85YbPuwbAf8H+UK6gBsDhcRyCCGMHwL4/c09E5AfAXcewRYTyBsAhTR6GUvQGwJQLypvA/AbAY8oupBz1BsD+D+LyWf4GwNqnDaVVAwfAeZex5LfyBsB5DM052iAHwGA8fhqEJQfAw9U/qTcrB8B/BvStPS0HwLTd9YQrKwfAnA7pM8EvB8DzDPq0si0HwOajjplULQfArP+2gOsjB8AKNmVf1AMHwDhRUdQIMwfAZhvu3b80B8A/aB4NXjsHwFivhBmVlwfA9ef63nlCB8D3k1cCUzsHwP9t3V7vFwfAnQyMwgnABsBjLFxRTV0HwJkqwV56VAfAxd1Ep0gwB8ByKqBlIdoGwAbsOPd/YgfAZz2K+t9ZB8BqiAKivU8HwC9KF2ppNwfADxzFatn9BsAzZrtspfkHwPhIjpnn+AbAFs5eAajqBsCwgMfGe9AGwLiqGLNJ+QbATVcJyoIAB8BsQhuvtPgGwGlOFbRHBAfAjsS6nq3/BsAtkx+DFQUHwAaylHRM/AbAKwZrdm80B8DZ6sfOYaQHwDu6P6q15wfAsHq3ohoyCMC9y0T4Am0IwJrwTBm5oQjAVOdWyV2yCMBCN/W6qgAJwDiB5SQaNwnAB7F/Je+VCcBqu7aGITkJwBwkFLAwLArA57Lkzh1pCsCrT9pqrQMKwK9H5cfKywrAv/HySowZC8C1aj9Hq04LwCvyjmSL0wvAORHxTALUC8B2e86sTeYLwKOs6KI9uwvAXR+5Nxm2DMB9S9B+/h0NwPTuyaVRrQ3Ali2ZPAwIDsCceEOWlWUOwJYYXZzDyQ7AtZYu52CHD8BXAW6pYA8QwCCqe4naKxDAkmYGc+NQEMCq9G6wXYsQwKKcNc87uhDAx/GRw/GEEcAWgAQMc48RwA0dWBcZghHAz8REHbqeEcDxGSr3UaoRwCEeA5awsRHA43fbyAO6EcDo4IxcEsURwMOiBhJ/zRHA6d4S4zzTEcAMSHRImNoRwHv+OwUB4hHAkfyNDyzlEcCkVT/63dcRwO9u1lg5CxLAL7TE92APEsDfCDBlOSQSwIbaOQSyXhLAFVr7He32EcCL4lW2fPgRwLHlfGCoBhLAQ+d3O/kmEsADhNvPpPoRwOFc/Ai/+hHAZe0PJoL/EcDYEQcyHwMSwN3dywzCBRLAcrGzPg4IEsCelqx99AQSwN+AHZUyBhLA4Z/V75AVEsAqMWeaU0MSwM1aBx6ZAhLAhHBz4lIEEsCRPd08RwYSwB5JJG3zCRLABsZ84QkNEsCg9jowYwgSwKFyHZpFIRLA+uCCwYokEsD64ILBiiQSwPrggsGKJBLAzRNqwYokEsDNE2rBiiQSwM0TasGKJBLAzRNqwYokEsDNE2rBiiQSwJAzIxaLJBLAkTMjFoskEsCTMyMWiyQSwJczIxaLJBLAoDMjFoskEsBE+ORAiiQSwET45ECKJBLARPjkQIokEsBE+ORAiiQSwA==",
          "dtype": "f8"
         },
         "z": {
          "bdata": "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",
          "dtype": "f8"
         }
        },
        {
         "marker": {
          "color": "red",
          "size": 4
         },
         "mode": "lines+markers",
         "name": "Noisy",
         "type": "scatter3d",
         "x": {
          "bdata": "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",
          "dtype": "f8"
         },
         "y": {
          "bdata": "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",
          "dtype": "f8"
         },
         "z": {
          "bdata": "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",
          "dtype": "f8"
         }
        }
       ],
       "layout": {
        "margin": {
         "b": 0,
         "l": 0,
         "r": 0,
         "t": 40
        },
        "scene": {
         "xaxis": {
          "title": {
           "text": "X"
          }
         },
         "yaxis": {
          "title": {
           "text": "Y"
          }
         },
         "zaxis": {
          "title": {
           "text": "Z"
          }
         }
        },
        "template": {
         "data": {
          "bar": [
           {
            "error_x": {
             "color": "#2a3f5f"
            },
            "error_y": {
             "color": "#2a3f5f"
            },
            "marker": {
             "line": {
              "color": "#E5ECF6",
              "width": 0.5
             },
             "pattern": {
              "fillmode": "overlay",
              "size": 10,
              "solidity": 0.2
             }
            },
            "type": "bar"
           }
          ],
          "barpolar": [
           {
            "marker": {
             "line": {
              "color": "#E5ECF6",
              "width": 0.5
             },
             "pattern": {
              "fillmode": "overlay",
              "size": 10,
              "solidity": 0.2
             }
            },
            "type": "barpolar"
           }
          ],
          "carpet": [
           {
            "aaxis": {
             "endlinecolor": "#2a3f5f",
             "gridcolor": "white",
             "linecolor": "white",
             "minorgridcolor": "white",
             "startlinecolor": "#2a3f5f"
            },
            "baxis": {
             "endlinecolor": "#2a3f5f",
             "gridcolor": "white",
             "linecolor": "white",
             "minorgridcolor": "white",
             "startlinecolor": "#2a3f5f"
            },
            "type": "carpet"
           }
          ],
          "choropleth": [
           {
            "colorbar": {
             "outlinewidth": 0,
             "ticks": ""
            },
            "type": "choropleth"
           }
          ],
          "contour": [
           {
            "colorbar": {
             "outlinewidth": 0,
             "ticks": ""
            },
            "colorscale": [
             [
              0,
              "#0d0887"
             ],
             [
              0.1111111111111111,
              "#46039f"
             ],
             [
              0.2222222222222222,
              "#7201a8"
             ],
             [
              0.3333333333333333,
              "#9c179e"
             ],
             [
              0.4444444444444444,
              "#bd3786"
             ],
             [
              0.5555555555555556,
              "#d8576b"
             ],
             [
              0.6666666666666666,
              "#ed7953"
             ],
             [
              0.7777777777777778,
              "#fb9f3a"
             ],
             [
              0.8888888888888888,
              "#fdca26"
             ],
             [
              1,
              "#f0f921"
             ]
            ],
            "type": "contour"
           }
          ],
          "contourcarpet": [
           {
            "colorbar": {
             "outlinewidth": 0,
             "ticks": ""
            },
            "type": "contourcarpet"
           }
          ],
          "heatmap": [
           {
            "colorbar": {
             "outlinewidth": 0,
             "ticks": ""
            },
            "colorscale": [
             [
              0,
              "#0d0887"
             ],
             [
              0.1111111111111111,
              "#46039f"
             ],
             [
              0.2222222222222222,
              "#7201a8"
             ],
             [
              0.3333333333333333,
              "#9c179e"
             ],
             [
              0.4444444444444444,
              "#bd3786"
             ],
             [
              0.5555555555555556,
              "#d8576b"
             ],
             [
              0.6666666666666666,
              "#ed7953"
             ],
             [
              0.7777777777777778,
              "#fb9f3a"
             ],
             [
              0.8888888888888888,
              "#fdca26"
             ],
             [
              1,
              "#f0f921"
             ]
            ],
            "type": "heatmap"
           }
          ],
          "histogram": [
           {
            "marker": {
             "pattern": {
              "fillmode": "overlay",
              "size": 10,
              "solidity": 0.2
             }
            },
            "type": "histogram"
           }
          ],
          "histogram2d": [
           {
            "colorbar": {
             "outlinewidth": 0,
             "ticks": ""
            },
            "colorscale": [
             [
              0,
              "#0d0887"
             ],
             [
              0.1111111111111111,
              "#46039f"
             ],
             [
              0.2222222222222222,
              "#7201a8"
             ],
             [
              0.3333333333333333,
              "#9c179e"
             ],
             [
              0.4444444444444444,
              "#bd3786"
             ],
             [
              0.5555555555555556,
              "#d8576b"
             ],
             [
              0.6666666666666666,
              "#ed7953"
             ],
             [
              0.7777777777777778,
              "#fb9f3a"
             ],
             [
              0.8888888888888888,
              "#fdca26"
             ],
             [
              1,
              "#f0f921"
             ]
            ],
            "type": "histogram2d"
           }
          ],
          "histogram2dcontour": [
           {
            "colorbar": {
             "outlinewidth": 0,
             "ticks": ""
            },
            "colorscale": [
             [
              0,
              "#0d0887"
             ],
             [
              0.1111111111111111,
              "#46039f"
             ],
             [
              0.2222222222222222,
              "#7201a8"
             ],
             [
              0.3333333333333333,
              "#9c179e"
             ],
             [
              0.4444444444444444,
              "#bd3786"
             ],
             [
              0.5555555555555556,
              "#d8576b"
             ],
             [
              0.6666666666666666,
              "#ed7953"
             ],
             [
              0.7777777777777778,
              "#fb9f3a"
             ],
             [
              0.8888888888888888,
              "#fdca26"
             ],
             [
              1,
              "#f0f921"
             ]
            ],
            "type": "histogram2dcontour"
           }
          ],
          "mesh3d": [
           {
            "colorbar": {
             "outlinewidth": 0,
             "ticks": ""
            },
            "type": "mesh3d"
           }
          ],
          "parcoords": [
           {
            "line": {
             "colorbar": {
              "outlinewidth": 0,
              "ticks": ""
             }
            },
            "type": "parcoords"
           }
          ],
          "pie": [
           {
            "automargin": true,
            "type": "pie"
           }
          ],
          "scatter": [
           {
            "fillpattern": {
             "fillmode": "overlay",
             "size": 10,
             "solidity": 0.2
            },
            "type": "scatter"
           }
          ],
          "scatter3d": [
           {
            "line": {
             "colorbar": {
              "outlinewidth": 0,
              "ticks": ""
             }
            },
            "marker": {
             "colorbar": {
              "outlinewidth": 0,
              "ticks": ""
             }
            },
            "type": "scatter3d"
           }
          ],
          "scattercarpet": [
           {
            "marker": {
             "colorbar": {
              "outlinewidth": 0,
              "ticks": ""
             }
            },
            "type": "scattercarpet"
           }
          ],
          "scattergeo": [
           {
            "marker": {
             "colorbar": {
              "outlinewidth": 0,
              "ticks": ""
             }
            },
            "type": "scattergeo"
           }
          ],
          "scattergl": [
           {
            "marker": {
             "colorbar": {
              "outlinewidth": 0,
              "ticks": ""
             }
            },
            "type": "scattergl"
           }
          ],
          "scattermap": [
           {
            "marker": {
             "colorbar": {
              "outlinewidth": 0,
              "ticks": ""
             }
            },
            "type": "scattermap"
           }
          ],
          "scattermapbox": [
           {
            "marker": {
             "colorbar": {
              "outlinewidth": 0,
              "ticks": ""
             }
            },
            "type": "scattermapbox"
           }
          ],
          "scatterpolar": [
           {
            "marker": {
             "colorbar": {
              "outlinewidth": 0,
              "ticks": ""
             }
            },
            "type": "scatterpolar"
           }
          ],
          "scatterpolargl": [
           {
            "marker": {
             "colorbar": {
              "outlinewidth": 0,
              "ticks": ""
             }
            },
            "type": "scatterpolargl"
           }
          ],
          "scatterternary": [
           {
            "marker": {
             "colorbar": {
              "outlinewidth": 0,
              "ticks": ""
             }
            },
            "type": "scatterternary"
           }
          ],
          "surface": [
           {
            "colorbar": {
             "outlinewidth": 0,
             "ticks": ""
            },
            "colorscale": [
             [
              0,
              "#0d0887"
             ],
             [
              0.1111111111111111,
              "#46039f"
             ],
             [
              0.2222222222222222,
              "#7201a8"
             ],
             [
              0.3333333333333333,
              "#9c179e"
             ],
             [
              0.4444444444444444,
              "#bd3786"
             ],
             [
              0.5555555555555556,
              "#d8576b"
             ],
             [
              0.6666666666666666,
              "#ed7953"
             ],
             [
              0.7777777777777778,
              "#fb9f3a"
             ],
             [
              0.8888888888888888,
              "#fdca26"
             ],
             [
              1,
              "#f0f921"
             ]
            ],
            "type": "surface"
           }
          ],
          "table": [
           {
            "cells": {
             "fill": {
              "color": "#EBF0F8"
             },
             "line": {
              "color": "white"
             }
            },
            "header": {
             "fill": {
              "color": "#C8D4E3"
             },
             "line": {
              "color": "white"
             }
            },
            "type": "table"
           }
          ]
         },
         "layout": {
          "annotationdefaults": {
           "arrowcolor": "#2a3f5f",
           "arrowhead": 0,
           "arrowwidth": 1
          },
          "autotypenumbers": "strict",
          "coloraxis": {
           "colorbar": {
            "outlinewidth": 0,
            "ticks": ""
           }
          },
          "colorscale": {
           "diverging": [
            [
             0,
             "#8e0152"
            ],
            [
             0.1,
             "#c51b7d"
            ],
            [
             0.2,
             "#de77ae"
            ],
            [
             0.3,
             "#f1b6da"
            ],
            [
             0.4,
             "#fde0ef"
            ],
            [
             0.5,
             "#f7f7f7"
            ],
            [
             0.6,
             "#e6f5d0"
            ],
            [
             0.7,
             "#b8e186"
            ],
            [
             0.8,
             "#7fbc41"
            ],
            [
             0.9,
             "#4d9221"
            ],
            [
             1,
             "#276419"
            ]
           ],
           "sequential": [
            [
             0,
             "#0d0887"
            ],
            [
             0.1111111111111111,
             "#46039f"
            ],
            [
             0.2222222222222222,
             "#7201a8"
            ],
            [
             0.3333333333333333,
             "#9c179e"
            ],
            [
             0.4444444444444444,
             "#bd3786"
            ],
            [
             0.5555555555555556,
             "#d8576b"
            ],
            [
             0.6666666666666666,
             "#ed7953"
            ],
            [
             0.7777777777777778,
             "#fb9f3a"
            ],
            [
             0.8888888888888888,
             "#fdca26"
            ],
            [
             1,
             "#f0f921"
            ]
           ],
           "sequentialminus": [
            [
             0,
             "#0d0887"
            ],
            [
             0.1111111111111111,
             "#46039f"
            ],
            [
             0.2222222222222222,
             "#7201a8"
            ],
            [
             0.3333333333333333,
             "#9c179e"
            ],
            [
             0.4444444444444444,
             "#bd3786"
            ],
            [
             0.5555555555555556,
             "#d8576b"
            ],
            [
             0.6666666666666666,
             "#ed7953"
            ],
            [
             0.7777777777777778,
             "#fb9f3a"
            ],
            [
             0.8888888888888888,
             "#fdca26"
            ],
            [
             1,
             "#f0f921"
            ]
           ]
          },
          "colorway": [
           "#636efa",
           "#EF553B",
           "#00cc96",
           "#ab63fa",
           "#FFA15A",
           "#19d3f3",
           "#FF6692",
           "#B6E880",
           "#FF97FF",
           "#FECB52"
          ],
          "font": {
           "color": "#2a3f5f"
          },
          "geo": {
           "bgcolor": "white",
           "lakecolor": "white",
           "landcolor": "#E5ECF6",
           "showlakes": true,
           "showland": true,
           "subunitcolor": "white"
          },
          "hoverlabel": {
           "align": "left"
          },
          "hovermode": "closest",
          "mapbox": {
           "style": "light"
          },
          "paper_bgcolor": "white",
          "plot_bgcolor": "#E5ECF6",
          "polar": {
           "angularaxis": {
            "gridcolor": "white",
            "linecolor": "white",
            "ticks": ""
           },
           "bgcolor": "#E5ECF6",
           "radialaxis": {
            "gridcolor": "white",
            "linecolor": "white",
            "ticks": ""
           }
          },
          "scene": {
           "xaxis": {
            "backgroundcolor": "#E5ECF6",
            "gridcolor": "white",
            "gridwidth": 2,
            "linecolor": "white",
            "showbackground": true,
            "ticks": "",
            "zerolinecolor": "white"
           },
           "yaxis": {
            "backgroundcolor": "#E5ECF6",
            "gridcolor": "white",
            "gridwidth": 2,
            "linecolor": "white",
            "showbackground": true,
            "ticks": "",
            "zerolinecolor": "white"
           },
           "zaxis": {
            "backgroundcolor": "#E5ECF6",
            "gridcolor": "white",
            "gridwidth": 2,
            "linecolor": "white",
            "showbackground": true,
            "ticks": "",
            "zerolinecolor": "white"
           }
          },
          "shapedefaults": {
           "line": {
            "color": "#2a3f5f"
           }
          },
          "ternary": {
           "aaxis": {
            "gridcolor": "white",
            "linecolor": "white",
            "ticks": ""
           },
           "baxis": {
            "gridcolor": "white",
            "linecolor": "white",
            "ticks": ""
           },
           "bgcolor": "#E5ECF6",
           "caxis": {
            "gridcolor": "white",
            "linecolor": "white",
            "ticks": ""
           }
          },
          "title": {
           "x": 0.05
          },
          "xaxis": {
           "automargin": true,
           "gridcolor": "white",
           "linecolor": "white",
           "ticks": "",
           "title": {
            "standoff": 15
           },
           "zerolinecolor": "white",
           "zerolinewidth": 2
          },
          "yaxis": {
           "automargin": true,
           "gridcolor": "white",
           "linecolor": "white",
           "ticks": "",
           "title": {
            "standoff": 15
           },
           "zerolinecolor": "white",
           "zerolinewidth": 2
          }
         }
        },
        "title": {
         "text": "Interactive 3D Path Visualization"
        }
       }
      }
     },
     "metadata": {},
     "output_type": "display_data"
    }
   ],
   "source": [
    "# Create 3D scatter lines\n",
    "fig = go.Figure()\n",
    "\n",
    "# Adding Original Path to figure\n",
    "fig.add_trace(go.Scatter3d(\n",
    "    x=original_path[:,0], y=original_path[:,1], z=original_path[:,2],\n",
    "    mode='lines+markers', marker=dict(size=4, color='green'),\n",
    "    name=\"Original\"\n",
    "))\n",
    "\n",
    "# Adding Calculated Path to figure\n",
    "fig.add_trace(go.Scatter3d(\n",
    "    x=clean_path[:,0], y=clean_path[:,1], z=clean_path[:,2],\n",
    "    mode='lines+markers', marker=dict(size=4, color='yellow'),\n",
    "    name=\"Clean\"\n",
    "))\n",
    "\n",
    "# Adding Calculated Path to figure\n",
    "fig.add_trace(go.Scatter3d(\n",
    "    x=noisy_path[:,0], y=noisy_path[:,1], z=noisy_path[:,2],\n",
    "    mode='lines+markers', marker=dict(size=4, color='red'),\n",
    "    name=\"Noisy\"\n",
    "))\n",
    "\n",
    "# Labels & Layout\n",
    "fig.update_layout(\n",
    "    title=\"Interactive 3D Path Visualization\",\n",
    "    scene=dict(\n",
    "        xaxis_title=\"X\",\n",
    "        yaxis_title=\"Y\",\n",
    "        zaxis_title=\"Z\"\n",
    "    ),\n",
    "    margin=dict(l=0, r=0, b=0, t=40)\n",
    ")\n",
    "\n",
    "# Show the figure\n",
    "fig.show()"
   ]
  },
  {
   "cell_type": "code",
   "execution_count": null,
   "metadata": {},
   "outputs": [],
   "source": []
  }
 ],
 "metadata": {
  "kernelspec": {
   "display_name": "Python 3",
   "language": "python",
   "name": "python3"
  },
  "language_info": {
   "codemirror_mode": {
    "name": "ipython",
    "version": 3
   },
   "file_extension": ".py",
   "mimetype": "text/x-python",
   "name": "python",
   "nbconvert_exporter": "python",
   "pygments_lexer": "ipython3",
   "version": "3.10.12"
  }
 },
 "nbformat": 4,
 "nbformat_minor": 2
}
