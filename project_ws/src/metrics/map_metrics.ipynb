{
 "cells": [
  {
   "cell_type": "markdown",
   "id": "bb8fd2e8",
   "metadata": {},
   "source": [
    "# Imports"
   ]
  },
  {
   "cell_type": "code",
   "execution_count": 13,
   "id": "d2990d13",
   "metadata": {},
   "outputs": [],
   "source": [
    "import numpy as np\n",
    "import struct\n",
    "import open3d as o3d\n",
    "import copy as cp\n",
    "\n",
    "import rosbag2_py\n",
    "import rclpy.serialization\n",
    "from sensor_msgs.msg import PointCloud2"
   ]
  },
  {
   "cell_type": "markdown",
   "id": "7829a9e6",
   "metadata": {},
   "source": [
    "# Extract Map"
   ]
  },
  {
   "cell_type": "markdown",
   "id": "3e48fe34",
   "metadata": {},
   "source": [
    "## Change working directory for the Notebook to read the recordings"
   ]
  },
  {
   "cell_type": "code",
   "execution_count": 14,
   "id": "be48b9f3",
   "metadata": {},
   "outputs": [
    {
     "name": "stdout",
     "output_type": "stream",
     "text": [
      "/home/pablo-pc/GITHUB/TFG/project_ws/src\n",
      "/home/pablo-pc/GITHUB/TFG/project_ws/src/recordings\n"
     ]
    }
   ],
   "source": [
    "%cd ..\n",
    "%cd recordings/"
   ]
  },
  {
   "cell_type": "code",
   "execution_count": 15,
   "id": "9aba7495",
   "metadata": {},
   "outputs": [],
   "source": [
    "def pointcloud2_to_open3d(data_msg):\n",
    "    \n",
    "    \"\"\"\n",
    "    Converts a ROS PointCloud2 message to an Open3D PointCloud object.\n",
    "    Args:\n",
    "        data_msg (sensor_msgs.msg.PointCloud2): The PointCloud2 message containing the point cloud data.\n",
    "    Returns:\n",
    "        open3d.geometry.PointCloud: The converted Open3D PointCloud object.\n",
    "    Notes:\n",
    "        - The function extracts the 3D points from the PointCloud2 message and assigns them to the Open3D PointCloud.\n",
    "        - If RGB data is available in the PointCloud2 message, it is extracted and assigned as colors to the Open3D PointCloud.\n",
    "        - The RGB values are normalized to the range [0, 1] for compatibility with Open3D.\n",
    "    Raises:\n",
    "        struct.error: If there is an issue unpacking the binary data from the PointCloud2 message.\n",
    "        ValueError: If the data cannot be reshaped properly based on the point step.\n",
    "    Example:\n",
    "        # Assuming `data_msg` is a valid PointCloud2 message:\n",
    "        pcd = pointcloud2_to_open3d(data_msg)\n",
    "    \"\"\"\n",
    "    \n",
    "    pcd = o3d.geometry.PointCloud()\n",
    "    \n",
    "    float_values = []\n",
    "    for i in range(0, len(data_msg.data), 4):\n",
    "        float_value = struct.unpack('f', data_msg.data[i:i+4])[0]\n",
    "        float_values.append(float_value)\n",
    "\n",
    "    points = np.array(float_values, dtype=np.float32).reshape(-1, data_msg.point_step // 4)\n",
    "\n",
    "    pcd.points = o3d.utility.Vector3dVector(points[:,:3])\n",
    "\n",
    "    # Extract RGB data from the data field if available\n",
    "    rgb_offset = None\n",
    "\n",
    "    for field in data_msg.fields:\n",
    "        if field.name == 'rgb':\n",
    "            rgb_offset = field.offset\n",
    "\n",
    "    if rgb_offset is not None:\n",
    "\n",
    "        rgb_stride = data_msg.point_step // 4\n",
    "        colors = []\n",
    "        for i in range(points.shape[0]):\n",
    "            colors.append(struct.unpack('I', struct.pack('f', points[i, 4]))[0])\n",
    "        colors = np.array(colors, dtype=np.uint32).reshape(-1, 1)\n",
    "        r = (colors[:, 0] >> 16) & 0xFF\n",
    "        g = (colors[:, 0] >> 8) & 0xFF\n",
    "        b = colors[:, 0] & 0xFF   \n",
    "\n",
    "        \n",
    "        colors = np.array([r.reshape(-1), g.reshape(-1), b.reshape(-1)]).reshape((-1,3))\n",
    "        pcd.colors = o3d.utility.Vector3dVector(colors.astype(float) / 255.0)\n",
    "\n",
    "    return pcd        "
   ]
  },
  {
   "cell_type": "markdown",
   "id": "c5352933",
   "metadata": {},
   "source": [
    "## Save the voxelized map"
   ]
  },
  {
   "cell_type": "code",
   "execution_count": 16,
   "id": "0264f3fe",
   "metadata": {},
   "outputs": [],
   "source": [
    "def read_bag(base_path):\n",
    "       storage_options = rosbag2_py.StorageOptions(uri=base_path, storage_id=\"sqlite3\")\n",
    "       converter_options = rosbag2_py.ConverterOptions(input_serialization_format = \"cdr\", output_serialization_format = \"cdr\")\n",
    "       reader = rosbag2_py.SequentialReader()\n",
    "       reader.open(storage_options, converter_options)\n",
    "       return reader"
   ]
  },
  {
   "cell_type": "code",
   "execution_count": 17,
   "id": "37203958",
   "metadata": {},
   "outputs": [
    {
     "name": "stderr",
     "output_type": "stream",
     "text": [
      "[INFO] [1756425149.311870469] [rosbag2_storage]: Opened database 'map/original/original_map_04/original_map.db3' for READ_ONLY.\n"
     ]
    }
   ],
   "source": [
    "original_map = []\n",
    "\n",
    "bag_original = read_bag(\"map/original/original_map_04/original_map.db3\")\n",
    "\n",
    "while bag_original.has_next():\n",
    "    \n",
    "    # Read the next message in the queue\n",
    "    topic, msg, t = bag_original.read_next()\n",
    "\n",
    "    # Deserialize the msg to extract the x, y and z values\n",
    "    original_map = rclpy.serialization.deserialize_message(msg, PointCloud2)"
   ]
  },
  {
   "cell_type": "code",
   "execution_count": 18,
   "id": "7baf0d17",
   "metadata": {},
   "outputs": [],
   "source": [
    "original_map = pointcloud2_to_open3d(original_map)"
   ]
  },
  {
   "cell_type": "code",
   "execution_count": 19,
   "id": "e4237ba8",
   "metadata": {},
   "outputs": [
    {
     "name": "stderr",
     "output_type": "stream",
     "text": [
      "[INFO] [1756425150.571482743] [rosbag2_storage]: Opened database 'map/clean_pcl/clean_pcl_map/clean_pcl_map.db3' for READ_ONLY.\n"
     ]
    }
   ],
   "source": [
    "new_map = []\n",
    "\n",
    "bag_new = read_bag(\"map/clean_pcl/clean_pcl_map/clean_pcl_map.db3\")\n",
    "\n",
    "while bag_new.has_next():\n",
    "    \n",
    "    # Read the next message in the queue\n",
    "    topic, msg, t = bag_new.read_next()\n",
    "\n",
    "    # Deserialize the msg to extract the x, y and z values\n",
    "    new_map = rclpy.serialization.deserialize_message(msg, PointCloud2)"
   ]
  },
  {
   "cell_type": "code",
   "execution_count": 20,
   "id": "3e0dc976",
   "metadata": {},
   "outputs": [],
   "source": [
    "new_map = pointcloud2_to_open3d(new_map)"
   ]
  },
  {
   "cell_type": "markdown",
   "id": "45e42356",
   "metadata": {},
   "source": [
    "# Métricas y visualización"
   ]
  },
  {
   "cell_type": "markdown",
   "id": "feb66372",
   "metadata": {},
   "source": [
    "## Métricas"
   ]
  },
  {
   "cell_type": "markdown",
   "id": "90df4ecd",
   "metadata": {},
   "source": [
    "### Distancia Nube-a-Nube"
   ]
  },
  {
   "cell_type": "code",
   "execution_count": 21,
   "id": "f9555cb6",
   "metadata": {},
   "outputs": [],
   "source": [
    "def cloud_to_cloud_distance(pc1, pc2):\n",
    "    # pc1 y pc2 son open3d.geometry.PointCloud\n",
    "    dist1 = np.asarray(pc1.compute_point_cloud_distance(pc2))\n",
    "    dist2 = np.asarray(pc2.compute_point_cloud_distance(pc1))\n",
    "    return {\n",
    "        \"mean_dist\": (np.mean(dist1) + np.mean(dist2)) / 2,\n",
    "        \"max_dist\": max(np.max(dist1), np.max(dist2)),\n",
    "        \"hausdorff\": max(np.max(dist1), np.max(dist2))\n",
    "    }"
   ]
  },
  {
   "cell_type": "code",
   "execution_count": 22,
   "id": "5048cc21",
   "metadata": {},
   "outputs": [
    {
     "name": "stdout",
     "output_type": "stream",
     "text": [
      "{'mean_dist': 0.25294789981995125, 'max_dist': 1.5748014900206428, 'hausdorff': 1.5748014900206428}\n"
     ]
    }
   ],
   "source": [
    "print(cloud_to_cloud_distance(original_map, new_map))"
   ]
  },
  {
   "cell_type": "code",
   "execution_count": 23,
   "id": "16f0a6a2",
   "metadata": {},
   "outputs": [],
   "source": [
    "def draw_registration_result(source, target, transformation = None):\n",
    "    \n",
    "    \"\"\"\n",
    "    Visualizes the registration result of two 3D point clouds after applying a transformation.\n",
    "    This function takes two 3D point clouds (`source` and `target`) and a transformation matrix.\n",
    "    It applies the transformation to the source point cloud, assigns uniform colors to both\n",
    "    point clouds for differentiation, and visualizes them using Open3D's visualization tools.\n",
    "    Args:\n",
    "        source (open3d.geometry.PointCloud): The source point cloud to be transformed.\n",
    "        target (open3d.geometry.PointCloud): The target point cloud to be used as a reference.\n",
    "        transformation (numpy.ndarray): A 4x4 transformation matrix to be applied to the source point cloud.\n",
    "    Returns:\n",
    "        None: This function does not return any value. It displays a visualization window.\n",
    "    \"\"\"\n",
    "\n",
    "    source_temp = cp.deepcopy(source)\n",
    "    target_temp = cp.deepcopy(target)\n",
    "    source_temp.paint_uniform_color([1, 0.706, 0])\n",
    "    target_temp.paint_uniform_color([0, 0.651, 0.929])\n",
    "    if transformation is not None:\n",
    "        target_temp.transform(transformation)\n",
    "    o3d.visualization.draw_geometries([source_temp, target_temp],\n",
    "                                    zoom=0.4459,\n",
    "                                    front=[0.9288, -0.2951, -0.2242],\n",
    "                                    lookat=[1.6784, 2.0612, 1.4451],\n",
    "                                    up=[-0.3402, -0.9189, -0.1996])"
   ]
  },
  {
   "cell_type": "code",
   "execution_count": 24,
   "id": "2e7a6d99",
   "metadata": {},
   "outputs": [],
   "source": [
    "draw_registration_result(original_map, new_map)"
   ]
  }
 ],
 "metadata": {
  "kernelspec": {
   "display_name": "Python 3",
   "language": "python",
   "name": "python3"
  },
  "language_info": {
   "codemirror_mode": {
    "name": "ipython",
    "version": 3
   },
   "file_extension": ".py",
   "mimetype": "text/x-python",
   "name": "python",
   "nbconvert_exporter": "python",
   "pygments_lexer": "ipython3",
   "version": "3.10.12"
  }
 },
 "nbformat": 4,
 "nbformat_minor": 5
}
