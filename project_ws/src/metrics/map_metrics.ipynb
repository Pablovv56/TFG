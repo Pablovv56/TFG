{
 "cells": [
  {
   "cell_type": "markdown",
   "id": "bb8fd2e8",
   "metadata": {},
   "source": [
    "# Imports"
   ]
  },
  {
   "cell_type": "code",
   "execution_count": null,
   "id": "0dd66f86",
   "metadata": {},
   "outputs": [],
   "source": [
    "%cd ..\n",
    "%cd location_controller/location_controller/"
   ]
  },
  {
   "cell_type": "code",
   "execution_count": null,
   "id": "d2990d13",
   "metadata": {},
   "outputs": [],
   "source": [
    "\n",
    "import numpy as np\n",
    "import open3d as o3d\n",
    "\n",
    "import rosbag2_py\n",
    "import rclpy.serialization\n",
    "from sensor_msgs.msg import PointCloud2\n",
    "from utils import pointcloud2_to_open3d"
   ]
  },
  {
   "cell_type": "markdown",
   "id": "7829a9e6",
   "metadata": {},
   "source": [
    "# Extract Map"
   ]
  },
  {
   "cell_type": "markdown",
   "id": "3e48fe34",
   "metadata": {},
   "source": [
    "## Change working directory for the Notebook to read the recordings"
   ]
  },
  {
   "cell_type": "code",
   "execution_count": null,
   "id": "be48b9f3",
   "metadata": {},
   "outputs": [],
   "source": [
    "%cd ../../\n",
    "%cd recordings/"
   ]
  },
  {
   "cell_type": "markdown",
   "id": "c5352933",
   "metadata": {},
   "source": [
    "## Save the voxelized map"
   ]
  },
  {
   "cell_type": "code",
   "execution_count": null,
   "id": "0264f3fe",
   "metadata": {},
   "outputs": [],
   "source": [
    "def read_bag(base_path):\n",
    "       storage_options = rosbag2_py.StorageOptions(uri=base_path, storage_id=\"sqlite3\")\n",
    "       converter_options = rosbag2_py.ConverterOptions(input_serialization_format = \"cdr\", output_serialization_format = \"cdr\")\n",
    "       reader = rosbag2_py.SequentialReader()\n",
    "       reader.open(storage_options, converter_options)\n",
    "       return reader"
   ]
  },
  {
   "cell_type": "code",
   "execution_count": null,
   "id": "37203958",
   "metadata": {},
   "outputs": [],
   "source": [
    "original_map = []\n",
    "\n",
    "bag_original = read_bag(\"map/original_map/original_map_0.db3\")\n",
    "\n",
    "while bag_original.has_next():\n",
    "    \n",
    "    # Read the next message in the queue\n",
    "    topic, msg, t = bag_original.read_next()\n",
    "\n",
    "    # Deserialize the msg to extract the x, y and z values\n",
    "    original_map = rclpy.serialization.deserialize_message(msg, PointCloud2)"
   ]
  },
  {
   "cell_type": "code",
   "execution_count": null,
   "id": "7baf0d17",
   "metadata": {},
   "outputs": [],
   "source": [
    "original_map = pointcloud2_to_open3d(original_map)"
   ]
  },
  {
   "cell_type": "markdown",
   "id": "45e42356",
   "metadata": {},
   "source": [
    "# Métricas y visualización"
   ]
  },
  {
   "cell_type": "markdown",
   "id": "feb66372",
   "metadata": {},
   "source": [
    "## Métricas"
   ]
  },
  {
   "cell_type": "markdown",
   "id": "90df4ecd",
   "metadata": {},
   "source": [
    "### Distancia Nube-a-Nube"
   ]
  },
  {
   "cell_type": "code",
   "execution_count": null,
   "id": "f9555cb6",
   "metadata": {},
   "outputs": [],
   "source": [
    "def cloud_to_cloud_distance(pc1, pc2):\n",
    "    # pc1 y pc2 son open3d.geometry.PointCloud\n",
    "    dist1 = np.asarray(pc1.compute_point_cloud_distance(pc2))\n",
    "    dist2 = np.asarray(pc2.compute_point_cloud_distance(pc1))\n",
    "    return {\n",
    "        \"mean_dist\": (np.mean(dist1) + np.mean(dist2)) / 2,\n",
    "        \"max_dist\": max(np.max(dist1), np.max(dist2)),\n",
    "        \"hausdorff\": max(np.max(dist1), np.max(dist2))\n",
    "    }"
   ]
  },
  {
   "cell_type": "code",
   "execution_count": null,
   "id": "5048cc21",
   "metadata": {},
   "outputs": [],
   "source": [
    "print(cloud_to_cloud_distance(original_map, original_map))"
   ]
  },
  {
   "cell_type": "code",
   "execution_count": null,
   "id": "16f0a6a2",
   "metadata": {},
   "outputs": [],
   "source": []
  }
 ],
 "metadata": {
  "kernelspec": {
   "display_name": "Python 3",
   "language": "python",
   "name": "python3"
  },
  "language_info": {
   "codemirror_mode": {
    "name": "ipython",
    "version": 3
   },
   "file_extension": ".py",
   "mimetype": "text/x-python",
   "name": "python",
   "nbconvert_exporter": "python",
   "pygments_lexer": "ipython3",
   "version": "3.10.12"
  }
 },
 "nbformat": 4,
 "nbformat_minor": 5
}
